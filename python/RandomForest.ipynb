{
 "cells": [
  {
   "cell_type": "markdown",
   "metadata": {},
   "source": [
    "# Vergleichmethode RandomForest\n",
    "\n",
    "## für BERT Encoding"
   ]
  },
  {
   "cell_type": "code",
   "execution_count": 1,
   "metadata": {},
   "outputs": [],
   "source": [
    "import pandas as pd\n",
    "import numpy as np\n",
    "import matplotlib.pyplot as plt\n",
    "from sklearn.ensemble import RandomForestClassifier\n",
    "from sklearn.metrics import confusion_matrix, classification_report\n",
    "from sklearn.metrics import roc_curve, auc"
   ]
  },
  {
   "cell_type": "code",
   "execution_count": 2,
   "metadata": {},
   "outputs": [],
   "source": [
    "Bert_title_train = pd.read_hdf(\"../data/BERT/Bert_title_NN.h5\", key=\"train\")\n",
    "Bert_title_test = pd.read_hdf(\"../data/BERT/Bert_title_NN.h5\", key=\"test\")\n",
    "\n",
    "y_train_b = Bert_title_train['label']\n",
    "X_train_b = Bert_title_train.drop('label',axis=1)\n",
    "y_test_b = Bert_title_test['label']\n",
    "X_test_b = Bert_title_test.drop('label',axis=1)"
   ]
  },
  {
   "cell_type": "code",
   "execution_count": 3,
   "metadata": {},
   "outputs": [
    {
     "data": {
      "text/plain": [
       "RandomForestClassifier(bootstrap=True, class_weight=None, criterion='entropy',\n",
       "            max_depth=10, max_features='auto', max_leaf_nodes=None,\n",
       "            min_impurity_decrease=0.0, min_impurity_split=None,\n",
       "            min_samples_leaf=1, min_samples_split=2,\n",
       "            min_weight_fraction_leaf=0.0, n_estimators=100, n_jobs=None,\n",
       "            oob_score=False, random_state=0, verbose=0, warm_start=False)"
      ]
     },
     "execution_count": 3,
     "metadata": {},
     "output_type": "execute_result"
    }
   ],
   "source": [
    "RF_Bert = RandomForestClassifier(n_estimators=100, max_depth=10,random_state=0,criterion='entropy')\n",
    "RF_Bert.fit(X_train_b,y_train_b)"
   ]
  },
  {
   "cell_type": "code",
   "execution_count": 4,
   "metadata": {},
   "outputs": [],
   "source": [
    "y_pred_b = RF_Bert.predict(X_test_b)\n",
    "y_train_pred_b = RF_Bert.predict(X_train_b)\n",
    "y_pred_prob_b = RF_Bert.predict_proba(X_test_b)\n",
    "y_pred_prob_b = y_pred_prob_b[:,1]"
   ]
  },
  {
   "cell_type": "code",
   "execution_count": 5,
   "metadata": {},
   "outputs": [
    {
     "data": {
      "text/html": [
       "<div>\n",
       "<style scoped>\n",
       "    .dataframe tbody tr th:only-of-type {\n",
       "        vertical-align: middle;\n",
       "    }\n",
       "\n",
       "    .dataframe tbody tr th {\n",
       "        vertical-align: top;\n",
       "    }\n",
       "\n",
       "    .dataframe thead th {\n",
       "        text-align: right;\n",
       "    }\n",
       "</style>\n",
       "<table border=\"1\" class=\"dataframe\">\n",
       "  <thead>\n",
       "    <tr style=\"text-align: right;\">\n",
       "      <th></th>\n",
       "      <th>0</th>\n",
       "      <th>1</th>\n",
       "      <th>2</th>\n",
       "      <th>3</th>\n",
       "      <th>4</th>\n",
       "      <th>5</th>\n",
       "      <th>6</th>\n",
       "      <th>7</th>\n",
       "      <th>8</th>\n",
       "      <th>9</th>\n",
       "      <th>...</th>\n",
       "      <th>758</th>\n",
       "      <th>759</th>\n",
       "      <th>760</th>\n",
       "      <th>761</th>\n",
       "      <th>762</th>\n",
       "      <th>763</th>\n",
       "      <th>764</th>\n",
       "      <th>765</th>\n",
       "      <th>766</th>\n",
       "      <th>767</th>\n",
       "    </tr>\n",
       "  </thead>\n",
       "  <tbody>\n",
       "    <tr>\n",
       "      <th>7623</th>\n",
       "      <td>-0.192002</td>\n",
       "      <td>-0.548974</td>\n",
       "      <td>0.071171</td>\n",
       "      <td>-0.269275</td>\n",
       "      <td>-0.200849</td>\n",
       "      <td>-0.291623</td>\n",
       "      <td>-0.216774</td>\n",
       "      <td>0.512812</td>\n",
       "      <td>-0.317526</td>\n",
       "      <td>0.134379</td>\n",
       "      <td>...</td>\n",
       "      <td>0.077660</td>\n",
       "      <td>-0.296686</td>\n",
       "      <td>-0.229277</td>\n",
       "      <td>-0.119112</td>\n",
       "      <td>1.002616</td>\n",
       "      <td>-0.208316</td>\n",
       "      <td>0.360505</td>\n",
       "      <td>-0.405213</td>\n",
       "      <td>0.443470</td>\n",
       "      <td>-0.456641</td>\n",
       "    </tr>\n",
       "    <tr>\n",
       "      <th>2795</th>\n",
       "      <td>-0.244090</td>\n",
       "      <td>-0.086528</td>\n",
       "      <td>0.515345</td>\n",
       "      <td>-0.070774</td>\n",
       "      <td>0.288625</td>\n",
       "      <td>-0.820126</td>\n",
       "      <td>0.484506</td>\n",
       "      <td>0.982290</td>\n",
       "      <td>-0.518791</td>\n",
       "      <td>-0.168500</td>\n",
       "      <td>...</td>\n",
       "      <td>-0.128146</td>\n",
       "      <td>0.028308</td>\n",
       "      <td>-0.002988</td>\n",
       "      <td>-0.220616</td>\n",
       "      <td>0.033655</td>\n",
       "      <td>0.342653</td>\n",
       "      <td>0.049871</td>\n",
       "      <td>-1.200187</td>\n",
       "      <td>-0.735403</td>\n",
       "      <td>-0.055025</td>\n",
       "    </tr>\n",
       "    <tr>\n",
       "      <th>21564</th>\n",
       "      <td>-0.209473</td>\n",
       "      <td>-0.153699</td>\n",
       "      <td>-0.201120</td>\n",
       "      <td>-0.318984</td>\n",
       "      <td>0.073975</td>\n",
       "      <td>-0.692211</td>\n",
       "      <td>-0.112993</td>\n",
       "      <td>0.118926</td>\n",
       "      <td>-0.188034</td>\n",
       "      <td>0.547603</td>\n",
       "      <td>...</td>\n",
       "      <td>0.060003</td>\n",
       "      <td>-0.303000</td>\n",
       "      <td>0.124234</td>\n",
       "      <td>-0.469229</td>\n",
       "      <td>0.616687</td>\n",
       "      <td>0.368737</td>\n",
       "      <td>-0.138074</td>\n",
       "      <td>-0.612309</td>\n",
       "      <td>0.289624</td>\n",
       "      <td>0.048681</td>\n",
       "    </tr>\n",
       "    <tr>\n",
       "      <th>25173</th>\n",
       "      <td>0.035834</td>\n",
       "      <td>-0.178724</td>\n",
       "      <td>0.201731</td>\n",
       "      <td>-0.172691</td>\n",
       "      <td>-0.110031</td>\n",
       "      <td>-0.579049</td>\n",
       "      <td>-0.047478</td>\n",
       "      <td>0.601645</td>\n",
       "      <td>-0.128653</td>\n",
       "      <td>0.084381</td>\n",
       "      <td>...</td>\n",
       "      <td>-0.096983</td>\n",
       "      <td>0.259828</td>\n",
       "      <td>0.476668</td>\n",
       "      <td>0.277661</td>\n",
       "      <td>0.541585</td>\n",
       "      <td>-0.312760</td>\n",
       "      <td>0.151271</td>\n",
       "      <td>-0.349666</td>\n",
       "      <td>-0.334987</td>\n",
       "      <td>0.248505</td>\n",
       "    </tr>\n",
       "    <tr>\n",
       "      <th>20511</th>\n",
       "      <td>0.072781</td>\n",
       "      <td>-0.297915</td>\n",
       "      <td>-0.052722</td>\n",
       "      <td>0.128803</td>\n",
       "      <td>-0.113884</td>\n",
       "      <td>0.048446</td>\n",
       "      <td>-0.007747</td>\n",
       "      <td>0.502236</td>\n",
       "      <td>0.013310</td>\n",
       "      <td>-0.116486</td>\n",
       "      <td>...</td>\n",
       "      <td>-0.183534</td>\n",
       "      <td>0.128730</td>\n",
       "      <td>-0.247939</td>\n",
       "      <td>-0.185485</td>\n",
       "      <td>0.299713</td>\n",
       "      <td>0.000346</td>\n",
       "      <td>0.352757</td>\n",
       "      <td>-0.548325</td>\n",
       "      <td>0.291049</td>\n",
       "      <td>0.204105</td>\n",
       "    </tr>\n",
       "  </tbody>\n",
       "</table>\n",
       "<p>5 rows × 768 columns</p>\n",
       "</div>"
      ],
      "text/plain": [
       "            0         1         2         3         4         5         6    \\\n",
       "7623  -0.192002 -0.548974  0.071171 -0.269275 -0.200849 -0.291623 -0.216774   \n",
       "2795  -0.244090 -0.086528  0.515345 -0.070774  0.288625 -0.820126  0.484506   \n",
       "21564 -0.209473 -0.153699 -0.201120 -0.318984  0.073975 -0.692211 -0.112993   \n",
       "25173  0.035834 -0.178724  0.201731 -0.172691 -0.110031 -0.579049 -0.047478   \n",
       "20511  0.072781 -0.297915 -0.052722  0.128803 -0.113884  0.048446 -0.007747   \n",
       "\n",
       "            7         8         9    ...       758       759       760  \\\n",
       "7623   0.512812 -0.317526  0.134379  ...  0.077660 -0.296686 -0.229277   \n",
       "2795   0.982290 -0.518791 -0.168500  ... -0.128146  0.028308 -0.002988   \n",
       "21564  0.118926 -0.188034  0.547603  ...  0.060003 -0.303000  0.124234   \n",
       "25173  0.601645 -0.128653  0.084381  ... -0.096983  0.259828  0.476668   \n",
       "20511  0.502236  0.013310 -0.116486  ... -0.183534  0.128730 -0.247939   \n",
       "\n",
       "            761       762       763       764       765       766       767  \n",
       "7623  -0.119112  1.002616 -0.208316  0.360505 -0.405213  0.443470 -0.456641  \n",
       "2795  -0.220616  0.033655  0.342653  0.049871 -1.200187 -0.735403 -0.055025  \n",
       "21564 -0.469229  0.616687  0.368737 -0.138074 -0.612309  0.289624  0.048681  \n",
       "25173  0.277661  0.541585 -0.312760  0.151271 -0.349666 -0.334987  0.248505  \n",
       "20511 -0.185485  0.299713  0.000346  0.352757 -0.548325  0.291049  0.204105  \n",
       "\n",
       "[5 rows x 768 columns]"
      ]
     },
     "execution_count": 5,
     "metadata": {},
     "output_type": "execute_result"
    }
   ],
   "source": [
    "X_train_b.head()\n"
   ]
  },
  {
   "cell_type": "code",
   "execution_count": 13,
   "metadata": {},
   "outputs": [
    {
     "name": "stdout",
     "output_type": "stream",
     "text": [
      "Trainings prediction: \n",
      "              precision    recall  f1-score   support\n",
      "\n",
      "           0       0.98      0.83      0.90      8151\n",
      "           1       0.88      0.99      0.93     10527\n",
      "\n",
      "   micro avg       0.92      0.92      0.92     18678\n",
      "   macro avg       0.93      0.91      0.92     18678\n",
      "weighted avg       0.93      0.92      0.92     18678\n",
      "\n",
      "Test prediction: \n",
      "              precision    recall  f1-score   support\n",
      "\n",
      "           0       0.83      0.50      0.63      4016\n",
      "           1       0.71      0.92      0.80      5185\n",
      "\n",
      "   micro avg       0.74      0.74      0.74      9201\n",
      "   macro avg       0.77      0.71      0.71      9201\n",
      "weighted avg       0.76      0.74      0.72      9201\n",
      "\n",
      "[[2028 1988]\n",
      " [ 429 4756]]\n"
     ]
    },
    {
     "data": {
      "image/png": "[encoded data removed]",
      "text/plain": [
       "<Figure size 432x288 with 2 Axes>"
      ]
     },
     "metadata": {
      "needs_background": "light"
     },
     "output_type": "display_data"
    },
    {
     "data": {
      "image/png": "[encoded data removed]",
      "text/plain": [
       "<Figure size 432x288 with 1 Axes>"
      ]
     },
     "metadata": {
      "needs_background": "light"
     },
     "output_type": "display_data"
    },
    {
     "data": {
      "image/png": "[encoded data removed]",
      "text/plain": [
       "<Figure size 432x288 with 1 Axes>"
      ]
     },
     "metadata": {
      "needs_background": "light"
     },
     "output_type": "display_data"
    }
   ],
   "source": [
    "print(\"Trainings prediction: \")\n",
    "print(classification_report(y_train_b,y_train_pred_b))\n",
    "print(\"Test prediction: \")\n",
    "print(classification_report(y_test_b, y_pred_b))\n",
    "print(confusion_matrix(y_test_b, y_pred_b,\n",
    "                       labels=[0,1]))\n",
    "plt.imshow(confusion_matrix(y_test_b, y_pred_b,\n",
    "                            labels=[0,1]))\n",
    "plt.tight_layout()\n",
    "plt.colorbar()\n",
    "plt.xticks(range(2), [\"fake\", \"real\"])\n",
    "plt.yticks(range(2), [\"fake\", \"real\"])\n",
    "plt.show()\n",
    "#plt.savefig(\"../build/plots/RF/RF_Bert_cnfs.pdf\")\n",
    "plt.close()\n",
    "\n",
    "plt.hist(y_pred_prob_b[y_test_b == 0],label=\"fake\", alpha = 0.4, color = \"r\")\n",
    "plt.hist(y_pred_prob_b[y_test_b == 1],label = \"real\",alpha = 0.4, color = \"b\")\n",
    "plt.xlabel(\"Prediction Probability\")\n",
    "plt.legend()\n",
    "plt.show()\n",
    "#plt.savefig(\"../build/plots/RF/RF_Bert_prob.pdf\")\n",
    "plt.close()\n",
    "\n",
    "fpr = dict()\n",
    "tpr = dict()\n",
    "roc_auc = dict()\n",
    "fpr, tpr, _ = roc_curve(y_test_b, y_pred_prob_b)\n",
    "roc_auc = auc(fpr, tpr)\n",
    "\n",
    "plt.figure()\n",
    "lw = 2\n",
    "plt.plot(fpr, tpr, color='darkorange',\n",
    "         lw=lw, label='ROC curve (area = %0.2f)' % roc_auc)\n",
    "plt.plot([0, 1], [0, 1], color='navy', lw=lw, linestyle='--')\n",
    "plt.xlim([0.0, 1.0])\n",
    "plt.ylim([0.0, 1.05])\n",
    "plt.xlabel('False Positive Rate')\n",
    "plt.ylabel('True Positive Rate')\n",
    "plt.title('Receiver operating characteristic example')\n",
    "plt.legend(loc=\"lower right\")\n",
    "plt.show()\n",
    "#plt.savefig(\"../build/plots/RF/RF_Bert_roc.pdf\")\n",
    "plt.close()"
   ]
  },
  {
   "cell_type": "markdown",
   "metadata": {},
   "source": [
    "## Box of Words Modell"
   ]
  },
  {
   "cell_type": "code",
   "execution_count": 7,
   "metadata": {},
   "outputs": [],
   "source": [
    "X_train_bow = np.genfromtxt(\"../build/preprocessed/bow_X_train.txt\")\n",
    "y_train_bow = np.genfromtxt(\"../build/preprocessed/bow_y_train.txt\", unpack=True)\n",
    "X_test_bow  = np.genfromtxt(\"../build/preprocessed/bow_X_test.txt\")\n",
    "y_test_bow  = np.genfromtxt(\"../build/preprocessed/bow_y_test.txt\", unpack=True)"
   ]
  },
  {
   "cell_type": "code",
   "execution_count": 8,
   "metadata": {},
   "outputs": [
    {
     "data": {
      "text/plain": [
       "RandomForestClassifier(bootstrap=True, class_weight=None, criterion='entropy',\n",
       "            max_depth=10, max_features='auto', max_leaf_nodes=None,\n",
       "            min_impurity_decrease=0.0, min_impurity_split=None,\n",
       "            min_samples_leaf=1, min_samples_split=2,\n",
       "            min_weight_fraction_leaf=0.0, n_estimators=100, n_jobs=None,\n",
       "            oob_score=False, random_state=0, verbose=0, warm_start=False)"
      ]
     },
     "execution_count": 8,
     "metadata": {},
     "output_type": "execute_result"
    }
   ],
   "source": [
    "RF_bow = RandomForestClassifier(n_estimators=100, max_depth=10,random_state=0,criterion='entropy')\n",
    "RF_bow.fit(X_train_bow,y_train_bow)"
   ]
  },
  {
   "cell_type": "code",
   "execution_count": 9,
   "metadata": {},
   "outputs": [],
   "source": [
    "y_pred_bow = RF_bow.predict(X_test_bow)\n",
    "y_pred_prob_bow = RF_bow.predict_proba(X_test_bow)\n",
    "y_pred_prob_bow = y_pred_prob_bow[:,1]"
   ]
  },
  {
   "cell_type": "code",
   "execution_count": 14,
   "metadata": {},
   "outputs": [
    {
     "name": "stdout",
     "output_type": "stream",
     "text": [
      "              precision    recall  f1-score   support\n",
      "\n",
      "         0.0       0.88      0.76      0.81      3650\n",
      "         1.0       0.83      0.92      0.87      4714\n",
      "\n",
      "   micro avg       0.85      0.85      0.85      8364\n",
      "   macro avg       0.85      0.84      0.84      8364\n",
      "weighted avg       0.85      0.85      0.85      8364\n",
      "\n",
      "[[2762  888]\n",
      " [ 380 4334]]\n"
     ]
    },
    {
     "data": {
      "image/png": "[encoded data removed]",
      "text/plain": [
       "<Figure size 432x288 with 2 Axes>"
      ]
     },
     "metadata": {
      "needs_background": "light"
     },
     "output_type": "display_data"
    },
    {
     "data": {
      "image/png": "[encoded data removed]",
      "text/plain": [
       "<Figure size 432x288 with 1 Axes>"
      ]
     },
     "metadata": {
      "needs_background": "light"
     },
     "output_type": "display_data"
    },
    {
     "data": {
      "image/png": "[encoded data removed]",
      "text/plain": [
       "<Figure size 432x288 with 1 Axes>"
      ]
     },
     "metadata": {
      "needs_background": "light"
     },
     "output_type": "display_data"
    }
   ],
   "source": [
    "print(classification_report(y_test_bow, y_pred_bow))\n",
    "print(confusion_matrix(y_test_bow, y_pred_bow,\n",
    "                       labels=[0,1]))\n",
    "plt.imshow(confusion_matrix(y_test_bow, y_pred_bow,\n",
    "                            labels=[0,1]))\n",
    "plt.tight_layout()\n",
    "plt.colorbar()\n",
    "plt.xticks(range(2), [\"fake\", \"real\"])\n",
    "plt.yticks(range(2), [\"fake\", \"real\"])\n",
    "plt.show()\n",
    "#plt.savefig(\"../build/plots/RF/RF_bow_cnfs.pdf\")\n",
    "plt.close()\n",
    "\n",
    "plt.hist(y_pred_prob_bow[y_test_bow == 0],label=\"fake\", alpha = 0.4, color = \"r\")\n",
    "plt.hist(y_pred_prob_bow[y_test_bow == 1],label = \"real\",alpha = 0.4, color = \"b\")\n",
    "plt.xlabel(\"Prediction Probability\")\n",
    "plt.legend()\n",
    "plt.show()\n",
    "#plt.savefig(\"../build/plots/RF/RF_bow_prob.pdf\")\n",
    "plt.close()\n",
    "\n",
    "fpr = dict()\n",
    "tpr = dict()\n",
    "roc_auc = dict()\n",
    "fpr, tpr, _ = roc_curve(y_test_bow, y_pred_prob_bow)\n",
    "roc_auc = auc(fpr, tpr)\n",
    "\n",
    "plt.figure()\n",
    "lw = 2\n",
    "plt.plot(fpr, tpr, color='darkorange',\n",
    "         lw=lw, label='ROC curve (area = %0.2f)' % roc_auc)\n",
    "plt.plot([0, 1], [0, 1], color='navy', lw=lw, linestyle='--')\n",
    "plt.xlim([0.0, 1.0])\n",
    "plt.ylim([0.0, 1.05])\n",
    "plt.xlabel('False Positive Rate')\n",
    "plt.ylabel('True Positive Rate')\n",
    "plt.title('Receiver operating characteristic example')\n",
    "plt.legend(loc=\"lower right\")\n",
    "plt.show()\n",
    "#plt.savefig(\"../build/plots/RF/RF_bow_roc.pdf\")\n",
    "plt.close()"
   ]
  }
 ],
 "metadata": {
  "kernelspec": {
   "display_name": "Python 3",
   "language": "python",
   "name": "python3"
  },
  "language_info": {
   "codemirror_mode": {
    "name": "ipython",
    "version": 3
   },
   "file_extension": ".py",
   "mimetype": "text/x-python",
   "name": "python",
   "nbconvert_exporter": "python",
   "pygments_lexer": "ipython3",
   "version": "3.7.3"
  }
 },
 "nbformat": 4,
 "nbformat_minor": 2
}
