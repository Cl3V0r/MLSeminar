{
 "cells": [
  {
   "cell_type": "markdown",
   "metadata": {},
   "source": [
    "# Data Processing with BERT\n",
    "\n",
    "Bert Model Download: https://github.com/google-research/bert#pre-trained-models\n",
    "\n",
    "inspired by: https://github.com/llSourcell/bert-as-service\n",
    "\n",
    "DOC: https://bert-as-service.readthedocs.io/en/latest/section/get-start.html#start-the-bert-service\n",
    "\n",
    "Install BERT:\n",
    "pip install bert-serving-server\n",
    "pip install bert-serving-client\n",
    "Python 3.5 and Tensorflow 1.10 required\n",
    "\n",
    "Download pretrained model:\n",
    "\n",
    "https://storage.googleapis.com/bert_models/2018_10_18/uncased_L-12_H-768_A-12.zip\n",
    "\n",
    "add unziped to /tmp/uncased_L-12_H-768_A-12/\n",
    "\n",
    "then start the service by : bert-serving-start -model_dir /tmp/uncased_L-12_H-768_A-12/ -num_worker=1"
   ]
  },
  {
   "cell_type": "code",
   "execution_count": 14,
   "metadata": {},
   "outputs": [],
   "source": [
    "from bert_serving.client import BertClient\n",
    "import pandas as pd\n",
    "import numpy as np\n",
    "import h5py\n",
    "from nltk import tokenize\n",
    "from sklearn.decomposition import PCA\n",
    "from sklearn.model_selection import train_test_split\n",
    "from sklearn.preprocessing import LabelEncoder\n",
    "import matplotlib.pyplot as plt\n",
    "from keras.models import Sequential\n",
    "from keras.layers import Dense, Dropout, LeakyReLU\n",
    "from keras.callbacks import TensorBoard, ModelCheckpoint\n",
    "from keras.models import load_model\n",
    "from sklearn.metrics import confusion_matrix, classification_report\n",
    "import seaborn as sn"
   ]
  },
  {
   "cell_type": "code",
   "execution_count": 13,
   "metadata": {},
   "outputs": [
    {
     "data": {
      "text/plain": [
       "(27879, 5)"
      ]
     },
     "execution_count": 13,
     "metadata": {},
     "output_type": "execute_result"
    }
   ],
   "source": [
    "news = pd.read_csv('../data/mixed_news/news_dataset.csv')\n",
    "news = news.dropna(subset=['title','content'])\n",
    "news = news[news.content != ' ']\n",
    "news = news[news.title != ' ']\n",
    "news.shape"
   ]
  },
  {
   "cell_type": "markdown",
   "metadata": {},
   "source": [
    "# Vergleichsanalyse:"
   ]
  },
  {
   "cell_type": "markdown",
   "metadata": {},
   "source": [
    "## Klassifizierung anhand eines Splits:"
   ]
  },
  {
   "cell_type": "code",
   "execution_count": 11,
   "metadata": {},
   "outputs": [
    {
     "data": {
      "image/png": "[encoded data removed]",
      "text/plain": [
       "<Figure size 432x288 with 1 Axes>"
      ]
     },
     "metadata": {
      "needs_background": "light"
     },
     "output_type": "display_data"
    }
   ],
   "source": [
    "text_len_real  =  [len(c) for c in news[news['label']=='real'].content]\n",
    "plt.hist(text_len_real,color=\"b\", bins=500,density=True,alpha=0.4,label=\"real\")\n",
    "text_len_fake = [len(c) for c in news[news['label']=='fake'].content]\n",
    "plt.hist(text_len_fake,color=\"r\",bins=500, density=True,alpha=0.4,label=\"fake\")\n",
    "plt.xlim(0,20000)\n",
    "plt.xlabel(\"Textlänge\")\n",
    "plt.legend()\n",
    "plt.show()"
   ]
  },
  {
   "cell_type": "code",
   "execution_count": null,
   "metadata": {},
   "outputs": [],
   "source": [
    "data = pd.DataFrame({\"x\": text_len_fake+text_len_real, \"truth\": [0]*len(text_len_fake) + [1]*len(text_len_real)})\n",
    "split=2500\n",
    "plt.vlines(split,0,0.00025)\n",
    "plt.hist(text_len_real,color=\"b\", bins=500,density=True,alpha=0.4,label=\"real\")\n",
    "plt.hist(text_len_fake,color=\"r\",bins=500, density=True,alpha=0.4,label=\"fake\")\n",
    "plt.xlim(0,20000)\n",
    "plt.xlabel(\"Textlänge\")\n",
    "plt.legend()\n",
    "plt.show()"
   ]
  },
  {
   "cell_type": "code",
   "execution_count": null,
   "metadata": {},
   "outputs": [],
   "source": [
    "from sklearn.utils.multiclass import unique_labels\n",
    "def plot_confusion_matrix(y_true, y_pred, classes,\n",
    "                          normalize=False,\n",
    "                          title=None,\n",
    "                          cmap=plt.cm.Blues):\n",
    "    \"\"\"\n",
    "    This function prints and plots the confusion matrix.\n",
    "    Normalization can be applied by setting `normalize=True`.\n",
    "    \"\"\"\n",
    "    if not title:\n",
    "        if normalize:\n",
    "            title = 'Normalized confusion matrix'\n",
    "        else:\n",
    "            title = 'Confusion matrix, without normalization'\n",
    "\n",
    "    # Compute confusion matrix\n",
    "    cm = confusion_matrix(y_true, y_pred)\n",
    "    # Only use the labels that appear in the data\n",
    "    if normalize:\n",
    "        cm = cm.astype('float') / cm.sum(axis=1)[:, np.newaxis]\n",
    "        print(\"Normalized confusion matrix\")\n",
    "    else:\n",
    "        print('Confusion matrix, without normalization')\n",
    "\n",
    "    print(cm)\n",
    "\n",
    "    fig, ax = plt.subplots()\n",
    "    im = ax.imshow(cm, interpolation='nearest', cmap=cmap)\n",
    "    ax.figure.colorbar(im, ax=ax)\n",
    "    # We want to show all ticks...\n",
    "    ax.set(xticks=np.arange(cm.shape[1]),\n",
    "           yticks=np.arange(cm.shape[0]),\n",
    "           # ... and label them with the respective list entries\n",
    "           xticklabels=classes, yticklabels=classes,\n",
    "           title=title,\n",
    "           ylabel='True label',\n",
    "           xlabel='Predicted label')\n",
    "\n",
    "    # Rotate the tick labels and set their alignment.\n",
    "    plt.setp(ax.get_xticklabels(), rotation=45, ha=\"right\",\n",
    "             rotation_mode=\"anchor\")\n",
    "\n",
    "    # Loop over data dimensions and create text annotations.\n",
    "    fmt = '.2f' if normalize else 'd'\n",
    "    thresh = cm.max() / 2.\n",
    "    for i in range(cm.shape[0]):\n",
    "        for j in range(cm.shape[1]):\n",
    "            ax.text(j, i, format(cm[i, j], fmt),\n",
    "                    ha=\"center\", va=\"center\",\n",
    "                    color=\"white\" if cm[i, j] > thresh else \"black\")\n",
    "    fig.tight_layout()\n",
    "    return ax"
   ]
  },
  {
   "cell_type": "code",
   "execution_count": null,
   "metadata": {},
   "outputs": [],
   "source": [
    "data[\"predict\"] = data.x > split\n",
    "data.head()\n",
    "from sklearn.metrics import confusion_matrix\n",
    "data = data.replace(0,\"fake\").replace(1,\"real\").replace(False,\"fake\").replace(True,\"real\")\n",
    "plot_confusion_matrix(data.truth,data.predict,[\"fake\",\"truth\"])"
   ]
  },
  {
   "cell_type": "markdown",
   "metadata": {},
   "source": [
    "# Using BERT for Datapreprocessing\n",
    "## Encode Titles:"
   ]
  },
  {
   "cell_type": "code",
   "execution_count": null,
   "metadata": {},
   "outputs": [],
   "source": [
    "bc = BertClient()"
   ]
  },
  {
   "cell_type": "code",
   "execution_count": null,
   "metadata": {},
   "outputs": [],
   "source": [
    "title_enc = bc.encode(list(news['title']))"
   ]
  },
  {
   "cell_type": "code",
   "execution_count": null,
   "metadata": {},
   "outputs": [],
   "source": [
    "with h5py.File('encoded_data/encode_news.h5', 'w') as hf:\n",
    "    hf.create_dataset(\"title_encode\",  title_enc)"
   ]
  },
  {
   "cell_type": "markdown",
   "metadata": {},
   "source": [
    "## Encode Text:"
   ]
  },
  {
   "cell_type": "code",
   "execution_count": null,
   "metadata": {},
   "outputs": [],
   "source": [
    "'''\n",
    "content = []\n",
    "num_sentences_train = []\n",
    "for c in news_train['content']:\n",
    "    tok = tokenize.sent_tokenize(c)\n",
    "    content  = content + tok\n",
    "    num_sentences_train.append(len(tok))\n",
    "\n",
    "train_content_encode = bc.encode(content)\n",
    "'''"
   ]
  },
  {
   "cell_type": "code",
   "execution_count": null,
   "metadata": {},
   "outputs": [],
   "source": [
    "'''with h5py.File('encode_news.h5', 'a') as hf:\n",
    "    hf.create_dataset(\"train_content_encode\",  data = train_content_encode)\n",
    "    hf.create_dataset(\"train_num_sentences\", data = np.array(num_sentences_train))'''"
   ]
  },
  {
   "cell_type": "code",
   "execution_count": null,
   "metadata": {},
   "outputs": [],
   "source": [
    "'''content = []\n",
    "num_sentences_test = []\n",
    "for c in news_test['content']:\n",
    "    tok = tokenize.sent_tokenize(c)\n",
    "    content  = content + tok\n",
    "    num_sentences_test.append(len(tok))\n",
    "\n",
    "test_content_encode = bc.encode(content)'''"
   ]
  },
  {
   "cell_type": "code",
   "execution_count": null,
   "metadata": {},
   "outputs": [],
   "source": [
    "'''with h5py.File('encode_news.h5', 'a') as hf:\n",
    "    hf.create_dataset(\"test_content_encode\",  data = test_content_encode)\n",
    "    hf.create_dataset(\"test_num_sentences\", data = np.array(num_sentences_test))'''"
   ]
  },
  {
   "cell_type": "markdown",
   "metadata": {},
   "source": [
    "## Read encoded data:"
   ]
  },
  {
   "cell_type": "code",
   "execution_count": 3,
   "metadata": {},
   "outputs": [],
   "source": [
    "with h5py.File('encoded_data/title_encode.h5', 'r') as hf:\n",
    "    title_encode = hf['title_encode'][:]"
   ]
  },
  {
   "cell_type": "markdown",
   "metadata": {},
   "source": [
    "preparing for NN:"
   ]
  },
  {
   "cell_type": "code",
   "execution_count": 4,
   "metadata": {},
   "outputs": [],
   "source": [
    "title_NN = pd.DataFrame(data = title_encode)\n",
    "X_train, X_test, y_train, y_test = train_test_split(title_NN,news.label, test_size=0.33, stratify=news.label,\n",
    "                                                                  random_state=42)"
   ]
  },
  {
   "cell_type": "markdown",
   "metadata": {},
   "source": [
    "# Verkleinerung des Designspace mithilfe einer PCA:"
   ]
  },
  {
   "cell_type": "code",
   "execution_count": null,
   "metadata": {},
   "outputs": [],
   "source": [
    "modell = PCA()\n",
    "modell.fit(X_train)"
   ]
  },
  {
   "cell_type": "code",
   "execution_count": null,
   "metadata": {},
   "outputs": [],
   "source": [
    "import matplotlib.pyplot as plt\n",
    "plt.plot(range(768),np.cumsum(modell.explained_variance_ratio_))\n",
    "plt.xlabel(\"Hauptkomponente\")\n",
    "plt.ylabel(\"Kummulierte Varianz\")\n",
    "plt.show()"
   ]
  },
  {
   "cell_type": "markdown",
   "metadata": {},
   "source": [
    "Es gibt drei Methoden, um zu entscheiden wie viele Hauptkomponenten ausreichend sind:\n",
    "\n",
    "1. Methode: eine bestimmter prozentsatz der Varainz soll erklärt sein:"
   ]
  },
  {
   "cell_type": "code",
   "execution_count": null,
   "metadata": {},
   "outputs": [],
   "source": [
    "print(\"Anzahl der Hauptkomponenten für erklärte Varianz größer 0.8: \", sum(np.cumsum(modell.explained_variance_ratio_)<0.8)+1)"
   ]
  },
  {
   "cell_type": "markdown",
   "metadata": {},
   "source": [
    "2. Methode: Die Hauptkomponenten, die mehr als die mittlere Varianz erkären"
   ]
  },
  {
   "cell_type": "code",
   "execution_count": null,
   "metadata": {},
   "outputs": [],
   "source": [
    "print(\"Anzahl der Hauptkomponenten größer der mittleren erklärten Varainz: \",sum(modell.explained_variance_ratio_ > np.mean(modell.explained_variance_ratio_)))"
   ]
  },
  {
   "cell_type": "markdown",
   "metadata": {},
   "source": [
    "Nutzen des Scree-Plots"
   ]
  },
  {
   "cell_type": "code",
   "execution_count": null,
   "metadata": {},
   "outputs": [],
   "source": [
    "plt.plot(range(768),modell.explained_variance_ratio_)\n",
    "plt.xlabel(\"Hauptkomponente\")\n",
    "plt.ylabel(\"erklärte Varianz\")\n",
    "plt.xlim(0,200)\n",
    "plt.show()"
   ]
  },
  {
   "cell_type": "markdown",
   "metadata": {},
   "source": [
    "Der Scree-Plot legt nahe $50-75$ Hauptkomponenten zu nutzen. Ab dann flacht der Graph sehr stark ab"
   ]
  },
  {
   "cell_type": "code",
   "execution_count": null,
   "metadata": {},
   "outputs": [],
   "source": [
    "X_train_red = modell.transform(X_train)[:,:130]\n",
    "X_test_red = modell.transform(X_test)[:,:130]"
   ]
  },
  {
   "cell_type": "code",
   "execution_count": 5,
   "metadata": {},
   "outputs": [],
   "source": [
    "LE = LabelEncoder()\n",
    "LE.fit([\"fake\",\"real\"])\n",
    "y_train_enc = LE.transform(y_train)\n",
    "y_test_enc = LE.transform(y_test)"
   ]
  },
  {
   "cell_type": "markdown",
   "metadata": {},
   "source": [
    "Es werden die ersten 130 Hauptkomponenten weiterverwendet"
   ]
  },
  {
   "cell_type": "code",
   "execution_count": null,
   "metadata": {},
   "outputs": [],
   "source": [
    "X_train_red = pd.DataFrame(X_train_red)\n",
    "X_train_red[\"label\"] = y_train_enc\n",
    "X_test_red = pd.DataFrame(X_test_red)\n",
    "X_test_red[\"label\"] = y_test_enc\n",
    "\n",
    "X_test_red.to_hdf('../data/BERT/Bert_title_NN.h5', key='train', mode='w')\n",
    "X_test_red.to_hdf('../data/BERT/Bert_title_NN.h5', key='test', mode='a')\n",
    "X_test_red = X_test_red.drop('label',axis=1)\n",
    "X_train_red = X_train_red.drop('label',axis=1)"
   ]
  },
  {
   "cell_type": "markdown",
   "metadata": {},
   "source": [
    "Ohne PCA:"
   ]
  },
  {
   "cell_type": "code",
   "execution_count": 6,
   "metadata": {},
   "outputs": [
    {
     "name": "stderr",
     "output_type": "stream",
     "text": [
      "/home/larsmoellerherm/.local/anaconda3/lib/python3.7/site-packages/pandas/io/pytables.py:274: PerformanceWarning: \n",
      "your performance may suffer as PyTables will pickle object types that it cannot\n",
      "map directly to c-types [inferred_type->mixed-integer,key->axis0] [items->None]\n",
      "\n",
      "  f(store)\n"
     ]
    }
   ],
   "source": [
    "X_train = pd.DataFrame(X_train)\n",
    "X_train[\"label\"] = y_train_enc\n",
    "X_test = pd.DataFrame(X_test)\n",
    "X_test[\"label\"] = y_test_enc\n",
    "\n",
    "X_train.to_hdf('../data/BERT/Bert_title_NN.h5', key='train', mode='w')\n",
    "X_test.to_hdf('../data/BERT/Bert_title_NN.h5', key='test', mode='a')\n",
    "X_test = X_test.drop('label',axis=1)\n",
    "X_train = X_train.drop('label',axis=1)"
   ]
  },
  {
   "cell_type": "markdown",
   "metadata": {},
   "source": [
    "## NN training\n",
    "\n",
    "Im weiteren Verlauf werden die Daten ohne Hauptkomponentenanalyse verwendet"
   ]
  },
  {
   "cell_type": "code",
   "execution_count": 7,
   "metadata": {},
   "outputs": [
    {
     "name": "stdout",
     "output_type": "stream",
     "text": [
      "WARNING:tensorflow:From /home/larsmoellerherm/.local/anaconda3/lib/python3.7/site-packages/tensorflow/python/framework/op_def_library.py:263: colocate_with (from tensorflow.python.framework.ops) is deprecated and will be removed in a future version.\n",
      "Instructions for updating:\n",
      "Colocations handled automatically by placer.\n",
      "WARNING:tensorflow:From /home/larsmoellerherm/.local/anaconda3/lib/python3.7/site-packages/keras/backend/tensorflow_backend.py:3445: calling dropout (from tensorflow.python.ops.nn_ops) with keep_prob is deprecated and will be removed in a future version.\n",
      "Instructions for updating:\n",
      "Please use `rate` instead of `keep_prob`. Rate should be set to `rate = 1 - keep_prob`.\n",
      "_________________________________________________________________\n",
      "Layer (type)                 Output Shape              Param #   \n",
      "=================================================================\n",
      "dense_1 (Dense)              (None, 1536)              1181184   \n",
      "_________________________________________________________________\n",
      "dropout_1 (Dropout)          (None, 1536)              0         \n",
      "_________________________________________________________________\n",
      "dense_2 (Dense)              (None, 76)                116812    \n",
      "_________________________________________________________________\n",
      "dropout_2 (Dropout)          (None, 76)                0         \n",
      "_________________________________________________________________\n",
      "dense_3 (Dense)              (None, 512)               39424     \n",
      "_________________________________________________________________\n",
      "dropout_3 (Dropout)          (None, 512)               0         \n",
      "_________________________________________________________________\n",
      "dense_4 (Dense)              (None, 1)                 513       \n",
      "=================================================================\n",
      "Total params: 1,337,933\n",
      "Trainable params: 1,337,933\n",
      "Non-trainable params: 0\n",
      "_________________________________________________________________\n",
      "WARNING:tensorflow:From /home/larsmoellerherm/.local/anaconda3/lib/python3.7/site-packages/tensorflow/python/ops/math_ops.py:3066: to_int32 (from tensorflow.python.ops.math_ops) is deprecated and will be removed in a future version.\n",
      "Instructions for updating:\n",
      "Use tf.cast instead.\n",
      "Train on 13074 samples, validate on 5604 samples\n",
      "Epoch 1/300\n",
      "13074/13074 [==============================] - 7s 566us/step - loss: 0.6133 - acc: 0.6687 - val_loss: 0.5302 - val_acc: 0.7352\n",
      "\n",
      "Epoch 00001: val_loss improved from inf to 0.53022, saving model to ../model/best_bert_title_nn.hdf5\n",
      "Epoch 2/300\n",
      "13074/13074 [==============================] - 7s 522us/step - loss: 0.5079 - acc: 0.7514 - val_loss: 0.4667 - val_acc: 0.7723\n",
      "\n",
      "Epoch 00002: val_loss improved from 0.53022 to 0.46670, saving model to ../model/best_bert_title_nn.hdf5\n",
      "Epoch 3/300\n",
      "13074/13074 [==============================] - 7s 566us/step - loss: 0.4649 - acc: 0.7749 - val_loss: 0.4863 - val_acc: 0.7734\n",
      "\n",
      "Epoch 00003: val_loss did not improve from 0.46670\n",
      "Epoch 4/300\n",
      "13074/13074 [==============================] - 5s 393us/step - loss: 0.4306 - acc: 0.7952 - val_loss: 0.4870 - val_acc: 0.7885\n",
      "\n",
      "Epoch 00004: val_loss did not improve from 0.46670\n",
      "Epoch 5/300\n",
      "13074/13074 [==============================] - 5s 358us/step - loss: 0.4017 - acc: 0.8097 - val_loss: 0.4735 - val_acc: 0.7809\n",
      "\n",
      "Epoch 00005: val_loss did not improve from 0.46670\n",
      "Epoch 6/300\n",
      "13074/13074 [==============================] - 5s 357us/step - loss: 0.3777 - acc: 0.8274 - val_loss: 0.4917 - val_acc: 0.7796\n",
      "\n",
      "Epoch 00006: val_loss did not improve from 0.46670\n",
      "Epoch 7/300\n",
      "13074/13074 [==============================] - 5s 358us/step - loss: 0.3407 - acc: 0.8468 - val_loss: 0.5005 - val_acc: 0.7848\n",
      "\n",
      "Epoch 00007: val_loss did not improve from 0.46670\n",
      "Epoch 8/300\n",
      "13074/13074 [==============================] - 5s 359us/step - loss: 0.3162 - acc: 0.8624 - val_loss: 0.5452 - val_acc: 0.7809\n",
      "\n",
      "Epoch 00008: val_loss did not improve from 0.46670\n",
      "Epoch 9/300\n",
      "13074/13074 [==============================] - 5s 365us/step - loss: 0.2858 - acc: 0.8745 - val_loss: 0.5345 - val_acc: 0.8023\n",
      "\n",
      "Epoch 00009: val_loss did not improve from 0.46670\n",
      "Epoch 10/300\n",
      "13074/13074 [==============================] - 5s 371us/step - loss: 0.2615 - acc: 0.8895 - val_loss: 0.5450 - val_acc: 0.7891\n",
      "\n",
      "Epoch 00010: val_loss did not improve from 0.46670\n",
      "Epoch 11/300\n",
      "13074/13074 [==============================] - 5s 393us/step - loss: 0.2299 - acc: 0.9031 - val_loss: 0.6883 - val_acc: 0.7734\n",
      "\n",
      "Epoch 00011: val_loss did not improve from 0.46670\n",
      "Epoch 12/300\n",
      "13074/13074 [==============================] - 8s 575us/step - loss: 0.2105 - acc: 0.9117 - val_loss: 0.5869 - val_acc: 0.8039\n",
      "\n",
      "Epoch 00012: val_loss did not improve from 0.46670\n",
      "Epoch 13/300\n",
      "13074/13074 [==============================] - 7s 533us/step - loss: 0.1867 - acc: 0.9266 - val_loss: 0.7270 - val_acc: 0.7907\n",
      "\n",
      "Epoch 00013: val_loss did not improve from 0.46670\n",
      "Epoch 14/300\n",
      "13074/13074 [==============================] - 7s 506us/step - loss: 0.1726 - acc: 0.9312 - val_loss: 0.7168 - val_acc: 0.7951\n",
      "\n",
      "Epoch 00014: val_loss did not improve from 0.46670\n",
      "Epoch 15/300\n",
      "13074/13074 [==============================] - 7s 569us/step - loss: 0.1465 - acc: 0.9415 - val_loss: 0.7144 - val_acc: 0.8023\n",
      "\n",
      "Epoch 00015: val_loss did not improve from 0.46670\n",
      "Epoch 16/300\n",
      "13074/13074 [==============================] - 10s 789us/step - loss: 0.1371 - acc: 0.9470 - val_loss: 0.7858 - val_acc: 0.7909\n",
      "\n",
      "Epoch 00016: val_loss did not improve from 0.46670\n",
      "Epoch 17/300\n",
      "13074/13074 [==============================] - 9s 695us/step - loss: 0.1228 - acc: 0.9529 - val_loss: 0.9733 - val_acc: 0.7943\n",
      "\n",
      "Epoch 00017: val_loss did not improve from 0.46670\n",
      "Epoch 18/300\n",
      "13074/13074 [==============================] - 8s 642us/step - loss: 0.1132 - acc: 0.9576 - val_loss: 0.7274 - val_acc: 0.8014\n",
      "\n",
      "Epoch 00018: val_loss did not improve from 0.46670\n",
      "Epoch 19/300\n",
      "13074/13074 [==============================] - 8s 603us/step - loss: 0.1030 - acc: 0.9618 - val_loss: 0.9063 - val_acc: 0.7918\n",
      "\n",
      "Epoch 00019: val_loss did not improve from 0.46670\n",
      "Epoch 20/300\n",
      "13074/13074 [==============================] - 9s 652us/step - loss: 0.0926 - acc: 0.9665 - val_loss: 0.9771 - val_acc: 0.7866\n",
      "\n",
      "Epoch 00020: val_loss did not improve from 0.46670\n",
      "Epoch 21/300\n",
      "13074/13074 [==============================] - 8s 641us/step - loss: 0.0860 - acc: 0.9668 - val_loss: 0.9798 - val_acc: 0.7755\n",
      "\n",
      "Epoch 00021: val_loss did not improve from 0.46670\n",
      "Epoch 22/300\n",
      "13074/13074 [==============================] - 8s 586us/step - loss: 0.0832 - acc: 0.9696 - val_loss: 1.0875 - val_acc: 0.7959\n",
      "\n",
      "Epoch 00022: val_loss did not improve from 0.46670\n",
      "Epoch 23/300\n",
      "13074/13074 [==============================] - 8s 602us/step - loss: 0.0724 - acc: 0.9741 - val_loss: 0.9517 - val_acc: 0.7937\n",
      "\n",
      "Epoch 00023: val_loss did not improve from 0.46670\n",
      "Epoch 24/300\n",
      "13074/13074 [==============================] - 10s 762us/step - loss: 0.0751 - acc: 0.9737 - val_loss: 1.0492 - val_acc: 0.7944\n",
      "\n",
      "Epoch 00024: val_loss did not improve from 0.46670\n",
      "Epoch 25/300\n",
      "13074/13074 [==============================] - 7s 570us/step - loss: 0.0724 - acc: 0.9753 - val_loss: 1.0082 - val_acc: 0.7916\n",
      "\n",
      "Epoch 00025: val_loss did not improve from 0.46670\n",
      "Epoch 26/300\n",
      "13074/13074 [==============================] - 13s 1ms/step - loss: 0.0647 - acc: 0.9783 - val_loss: 1.1702 - val_acc: 0.7919\n",
      "\n",
      "Epoch 00026: val_loss did not improve from 0.46670\n",
      "Epoch 27/300\n",
      "13074/13074 [==============================] - 13s 1ms/step - loss: 0.0683 - acc: 0.9772 - val_loss: 1.1676 - val_acc: 0.7978\n",
      "\n",
      "Epoch 00027: val_loss did not improve from 0.46670\n",
      "Epoch 28/300\n",
      "13074/13074 [==============================] - 6s 483us/step - loss: 0.0593 - acc: 0.9805 - val_loss: 1.2318 - val_acc: 0.7948\n",
      "\n",
      "Epoch 00028: val_loss did not improve from 0.46670\n",
      "Epoch 29/300\n",
      "13074/13074 [==============================] - 7s 561us/step - loss: 0.0529 - acc: 0.9811 - val_loss: 1.2041 - val_acc: 0.7893\n",
      "\n",
      "Epoch 00029: val_loss did not improve from 0.46670\n",
      "Epoch 30/300\n",
      "13074/13074 [==============================] - 7s 520us/step - loss: 0.0538 - acc: 0.9826 - val_loss: 1.1389 - val_acc: 0.7991\n",
      "\n",
      "Epoch 00030: val_loss did not improve from 0.46670\n",
      "Epoch 31/300\n"
     ]
    },
    {
     "name": "stdout",
     "output_type": "stream",
     "text": [
      "13074/13074 [==============================] - 6s 479us/step - loss: 0.0506 - acc: 0.9834 - val_loss: 1.2899 - val_acc: 0.7937\n",
      "\n",
      "Epoch 00031: val_loss did not improve from 0.46670\n",
      "Epoch 32/300\n",
      "13074/13074 [==============================] - 6s 488us/step - loss: 0.0513 - acc: 0.9832 - val_loss: 1.2892 - val_acc: 0.7852\n",
      "\n",
      "Epoch 00032: val_loss did not improve from 0.46670\n",
      "Epoch 33/300\n",
      "13074/13074 [==============================] - 9s 714us/step - loss: 0.0520 - acc: 0.9845 - val_loss: 1.2425 - val_acc: 0.7957\n",
      "\n",
      "Epoch 00033: val_loss did not improve from 0.46670\n",
      "Epoch 34/300\n",
      "13074/13074 [==============================] - 8s 639us/step - loss: 0.0484 - acc: 0.9856 - val_loss: 1.6855 - val_acc: 0.7846\n",
      "\n",
      "Epoch 00034: val_loss did not improve from 0.46670\n",
      "Epoch 35/300\n",
      "13074/13074 [==============================] - 8s 624us/step - loss: 0.0442 - acc: 0.9861 - val_loss: 1.3021 - val_acc: 0.7846\n",
      "\n",
      "Epoch 00035: val_loss did not improve from 0.46670\n",
      "Epoch 36/300\n",
      "13074/13074 [==============================] - 8s 622us/step - loss: 0.0437 - acc: 0.9862 - val_loss: 1.3543 - val_acc: 0.7982\n",
      "\n",
      "Epoch 00036: val_loss did not improve from 0.46670\n",
      "Epoch 37/300\n",
      "13074/13074 [==============================] - 9s 672us/step - loss: 0.0425 - acc: 0.9860 - val_loss: 1.5011 - val_acc: 0.7957\n",
      "\n",
      "Epoch 00037: val_loss did not improve from 0.46670\n",
      "Epoch 38/300\n",
      "13074/13074 [==============================] - 9s 658us/step - loss: 0.0435 - acc: 0.9873 - val_loss: 1.5841 - val_acc: 0.7873\n",
      "\n",
      "Epoch 00038: val_loss did not improve from 0.46670\n",
      "Epoch 39/300\n",
      "13074/13074 [==============================] - 8s 645us/step - loss: 0.0406 - acc: 0.9874 - val_loss: 1.4845 - val_acc: 0.7939\n",
      "\n",
      "Epoch 00039: val_loss did not improve from 0.46670\n",
      "Epoch 40/300\n",
      "13074/13074 [==============================] - 8s 637us/step - loss: 0.0455 - acc: 0.9858 - val_loss: 1.2577 - val_acc: 0.7871\n",
      "\n",
      "Epoch 00040: val_loss did not improve from 0.46670\n",
      "Epoch 41/300\n",
      "13074/13074 [==============================] - 9s 660us/step - loss: 0.0363 - acc: 0.9890 - val_loss: 1.5745 - val_acc: 0.7978\n",
      "\n",
      "Epoch 00041: val_loss did not improve from 0.46670\n",
      "Epoch 42/300\n",
      "13074/13074 [==============================] - 9s 713us/step - loss: 0.0356 - acc: 0.9881 - val_loss: 1.4842 - val_acc: 0.7893\n",
      "\n",
      "Epoch 00042: val_loss did not improve from 0.46670\n",
      "Epoch 43/300\n",
      "13074/13074 [==============================] - 9s 708us/step - loss: 0.0421 - acc: 0.9887 - val_loss: 1.3781 - val_acc: 0.7985\n",
      "\n",
      "Epoch 00043: val_loss did not improve from 0.46670\n",
      "Epoch 44/300\n",
      "13074/13074 [==============================] - 8s 641us/step - loss: 0.0336 - acc: 0.9891 - val_loss: 1.5319 - val_acc: 0.7898\n",
      "\n",
      "Epoch 00044: val_loss did not improve from 0.46670\n",
      "Epoch 45/300\n",
      "13074/13074 [==============================] - 8s 620us/step - loss: 0.0364 - acc: 0.9900 - val_loss: 1.1559 - val_acc: 0.7775\n",
      "\n",
      "Epoch 00045: val_loss did not improve from 0.46670\n",
      "Epoch 46/300\n",
      "13074/13074 [==============================] - 8s 603us/step - loss: 0.0391 - acc: 0.9891 - val_loss: 1.4029 - val_acc: 0.7885\n",
      "\n",
      "Epoch 00046: val_loss did not improve from 0.46670\n",
      "Epoch 47/300\n",
      "13074/13074 [==============================] - 8s 626us/step - loss: 0.0351 - acc: 0.9894 - val_loss: 1.5692 - val_acc: 0.7939\n",
      "\n",
      "Epoch 00047: val_loss did not improve from 0.46670\n",
      "Epoch 48/300\n",
      "13074/13074 [==============================] - 8s 612us/step - loss: 0.0316 - acc: 0.9908 - val_loss: 1.6287 - val_acc: 0.7896\n",
      "\n",
      "Epoch 00048: val_loss did not improve from 0.46670\n",
      "Epoch 49/300\n",
      "13074/13074 [==============================] - 8s 627us/step - loss: 0.0292 - acc: 0.9913 - val_loss: 1.4338 - val_acc: 0.7991\n",
      "\n",
      "Epoch 00049: val_loss did not improve from 0.46670\n",
      "Epoch 50/300\n",
      "13074/13074 [==============================] - 8s 623us/step - loss: 0.0295 - acc: 0.9913 - val_loss: 1.7330 - val_acc: 0.7953\n",
      "\n",
      "Epoch 00050: val_loss did not improve from 0.46670\n",
      "Epoch 51/300\n",
      "13074/13074 [==============================] - 14s 1ms/step - loss: 0.0359 - acc: 0.9896 - val_loss: 1.5861 - val_acc: 0.7941\n",
      "\n",
      "Epoch 00051: val_loss did not improve from 0.46670\n",
      "Epoch 52/300\n",
      "13074/13074 [==============================] - 15s 1ms/step - loss: 0.0324 - acc: 0.9911 - val_loss: 1.7948 - val_acc: 0.7948\n",
      "\n",
      "Epoch 00052: val_loss did not improve from 0.46670\n",
      "Epoch 53/300\n",
      "13074/13074 [==============================] - 17s 1ms/step - loss: 0.0324 - acc: 0.9914 - val_loss: 1.5749 - val_acc: 0.7918\n",
      "\n",
      "Epoch 00053: val_loss did not improve from 0.46670\n",
      "Epoch 54/300\n",
      "13074/13074 [==============================] - 9s 656us/step - loss: 0.0307 - acc: 0.9925 - val_loss: 1.4817 - val_acc: 0.8009\n",
      "\n",
      "Epoch 00054: val_loss did not improve from 0.46670\n",
      "Epoch 55/300\n",
      "13074/13074 [==============================] - 14s 1ms/step - loss: 0.0293 - acc: 0.9914 - val_loss: 1.5243 - val_acc: 0.7998\n",
      "\n",
      "Epoch 00055: val_loss did not improve from 0.46670\n",
      "Epoch 56/300\n",
      "13074/13074 [==============================] - 10s 785us/step - loss: 0.0255 - acc: 0.9932 - val_loss: 1.5579 - val_acc: 0.7966\n",
      "\n",
      "Epoch 00056: val_loss did not improve from 0.46670\n",
      "Epoch 57/300\n",
      "13074/13074 [==============================] - 13s 1ms/step - loss: 0.0319 - acc: 0.9901 - val_loss: 1.4622 - val_acc: 0.7959\n",
      "\n",
      "Epoch 00057: val_loss did not improve from 0.46670\n",
      "Epoch 58/300\n",
      "13074/13074 [==============================] - 9s 716us/step - loss: 0.0340 - acc: 0.9913 - val_loss: 1.5375 - val_acc: 0.7951\n",
      "\n",
      "Epoch 00058: val_loss did not improve from 0.46670\n",
      "Epoch 59/300\n",
      "13074/13074 [==============================] - 16s 1ms/step - loss: 0.0332 - acc: 0.9918 - val_loss: 1.8078 - val_acc: 0.7964\n",
      "\n",
      "Epoch 00059: val_loss did not improve from 0.46670\n",
      "Epoch 60/300\n",
      " 8640/13074 [==================>...........] - ETA: 4s - loss: 0.0242 - acc: 0.9942"
     ]
    },
    {
     "ename": "KeyboardInterrupt",
     "evalue": "",
     "output_type": "error",
     "traceback": [
      "\u001b[0;31m---------------------------------------------------------------------------\u001b[0m",
      "\u001b[0;31mKeyboardInterrupt\u001b[0m                         Traceback (most recent call last)",
      "\u001b[0;32m<ipython-input-7-95ada4f78776>\u001b[0m in \u001b[0;36m<module>\u001b[0;34m\u001b[0m\n\u001b[1;32m     34\u001b[0m history = model.fit(X_train, y_train_enc, validation_split=0.3,\n\u001b[1;32m     35\u001b[0m                     epochs=300,batch_size=64, callbacks=[checkpoint, TensorBoard(log_dir='../build/graph',\n\u001b[0;32m---> 36\u001b[0;31m                                                                                 histogram_freq=0, write_graph=True)])\n\u001b[0m\u001b[1;32m     37\u001b[0m \u001b[0mprint\u001b[0m\u001b[0;34m(\u001b[0m\u001b[0mhistory\u001b[0m\u001b[0;34m.\u001b[0m\u001b[0mhistory\u001b[0m\u001b[0;34m.\u001b[0m\u001b[0mkeys\u001b[0m\u001b[0;34m(\u001b[0m\u001b[0;34m)\u001b[0m\u001b[0;34m)\u001b[0m\u001b[0;34m\u001b[0m\u001b[0;34m\u001b[0m\u001b[0m\n\u001b[1;32m     38\u001b[0m \u001b[0mplot_history\u001b[0m\u001b[0;34m(\u001b[0m\u001b[0mhistory\u001b[0m\u001b[0;34m)\u001b[0m\u001b[0;34m\u001b[0m\u001b[0;34m\u001b[0m\u001b[0m\n",
      "\u001b[0;32m~/.local/anaconda3/lib/python3.7/site-packages/keras/engine/training.py\u001b[0m in \u001b[0;36mfit\u001b[0;34m(self, x, y, batch_size, epochs, verbose, callbacks, validation_split, validation_data, shuffle, class_weight, sample_weight, initial_epoch, steps_per_epoch, validation_steps, **kwargs)\u001b[0m\n\u001b[1;32m   1037\u001b[0m                                         \u001b[0minitial_epoch\u001b[0m\u001b[0;34m=\u001b[0m\u001b[0minitial_epoch\u001b[0m\u001b[0;34m,\u001b[0m\u001b[0;34m\u001b[0m\u001b[0;34m\u001b[0m\u001b[0m\n\u001b[1;32m   1038\u001b[0m                                         \u001b[0msteps_per_epoch\u001b[0m\u001b[0;34m=\u001b[0m\u001b[0msteps_per_epoch\u001b[0m\u001b[0;34m,\u001b[0m\u001b[0;34m\u001b[0m\u001b[0;34m\u001b[0m\u001b[0m\n\u001b[0;32m-> 1039\u001b[0;31m                                         validation_steps=validation_steps)\n\u001b[0m\u001b[1;32m   1040\u001b[0m \u001b[0;34m\u001b[0m\u001b[0m\n\u001b[1;32m   1041\u001b[0m     def evaluate(self, x=None, y=None,\n",
      "\u001b[0;32m~/.local/anaconda3/lib/python3.7/site-packages/keras/engine/training_arrays.py\u001b[0m in \u001b[0;36mfit_loop\u001b[0;34m(model, f, ins, out_labels, batch_size, epochs, verbose, callbacks, val_f, val_ins, shuffle, callback_metrics, initial_epoch, steps_per_epoch, validation_steps)\u001b[0m\n\u001b[1;32m    197\u001b[0m                     \u001b[0mins_batch\u001b[0m\u001b[0;34m[\u001b[0m\u001b[0mi\u001b[0m\u001b[0;34m]\u001b[0m \u001b[0;34m=\u001b[0m \u001b[0mins_batch\u001b[0m\u001b[0;34m[\u001b[0m\u001b[0mi\u001b[0m\u001b[0;34m]\u001b[0m\u001b[0;34m.\u001b[0m\u001b[0mtoarray\u001b[0m\u001b[0;34m(\u001b[0m\u001b[0;34m)\u001b[0m\u001b[0;34m\u001b[0m\u001b[0;34m\u001b[0m\u001b[0m\n\u001b[1;32m    198\u001b[0m \u001b[0;34m\u001b[0m\u001b[0m\n\u001b[0;32m--> 199\u001b[0;31m                 \u001b[0mouts\u001b[0m \u001b[0;34m=\u001b[0m \u001b[0mf\u001b[0m\u001b[0;34m(\u001b[0m\u001b[0mins_batch\u001b[0m\u001b[0;34m)\u001b[0m\u001b[0;34m\u001b[0m\u001b[0;34m\u001b[0m\u001b[0m\n\u001b[0m\u001b[1;32m    200\u001b[0m                 \u001b[0mouts\u001b[0m \u001b[0;34m=\u001b[0m \u001b[0mto_list\u001b[0m\u001b[0;34m(\u001b[0m\u001b[0mouts\u001b[0m\u001b[0;34m)\u001b[0m\u001b[0;34m\u001b[0m\u001b[0;34m\u001b[0m\u001b[0m\n\u001b[1;32m    201\u001b[0m                 \u001b[0;32mfor\u001b[0m \u001b[0ml\u001b[0m\u001b[0;34m,\u001b[0m \u001b[0mo\u001b[0m \u001b[0;32min\u001b[0m \u001b[0mzip\u001b[0m\u001b[0;34m(\u001b[0m\u001b[0mout_labels\u001b[0m\u001b[0;34m,\u001b[0m \u001b[0mouts\u001b[0m\u001b[0;34m)\u001b[0m\u001b[0;34m:\u001b[0m\u001b[0;34m\u001b[0m\u001b[0;34m\u001b[0m\u001b[0m\n",
      "\u001b[0;32m~/.local/anaconda3/lib/python3.7/site-packages/keras/backend/tensorflow_backend.py\u001b[0m in \u001b[0;36m__call__\u001b[0;34m(self, inputs)\u001b[0m\n\u001b[1;32m   2713\u001b[0m                 \u001b[0;32mreturn\u001b[0m \u001b[0mself\u001b[0m\u001b[0;34m.\u001b[0m\u001b[0m_legacy_call\u001b[0m\u001b[0;34m(\u001b[0m\u001b[0minputs\u001b[0m\u001b[0;34m)\u001b[0m\u001b[0;34m\u001b[0m\u001b[0;34m\u001b[0m\u001b[0m\n\u001b[1;32m   2714\u001b[0m \u001b[0;34m\u001b[0m\u001b[0m\n\u001b[0;32m-> 2715\u001b[0;31m             \u001b[0;32mreturn\u001b[0m \u001b[0mself\u001b[0m\u001b[0;34m.\u001b[0m\u001b[0m_call\u001b[0m\u001b[0;34m(\u001b[0m\u001b[0minputs\u001b[0m\u001b[0;34m)\u001b[0m\u001b[0;34m\u001b[0m\u001b[0;34m\u001b[0m\u001b[0m\n\u001b[0m\u001b[1;32m   2716\u001b[0m         \u001b[0;32melse\u001b[0m\u001b[0;34m:\u001b[0m\u001b[0;34m\u001b[0m\u001b[0;34m\u001b[0m\u001b[0m\n\u001b[1;32m   2717\u001b[0m             \u001b[0;32mif\u001b[0m \u001b[0mpy_any\u001b[0m\u001b[0;34m(\u001b[0m\u001b[0mis_tensor\u001b[0m\u001b[0;34m(\u001b[0m\u001b[0mx\u001b[0m\u001b[0;34m)\u001b[0m \u001b[0;32mfor\u001b[0m \u001b[0mx\u001b[0m \u001b[0;32min\u001b[0m \u001b[0minputs\u001b[0m\u001b[0;34m)\u001b[0m\u001b[0;34m:\u001b[0m\u001b[0;34m\u001b[0m\u001b[0;34m\u001b[0m\u001b[0m\n",
      "\u001b[0;32m~/.local/anaconda3/lib/python3.7/site-packages/keras/backend/tensorflow_backend.py\u001b[0m in \u001b[0;36m_call\u001b[0;34m(self, inputs)\u001b[0m\n\u001b[1;32m   2673\u001b[0m             \u001b[0mfetched\u001b[0m \u001b[0;34m=\u001b[0m \u001b[0mself\u001b[0m\u001b[0;34m.\u001b[0m\u001b[0m_callable_fn\u001b[0m\u001b[0;34m(\u001b[0m\u001b[0;34m*\u001b[0m\u001b[0marray_vals\u001b[0m\u001b[0;34m,\u001b[0m \u001b[0mrun_metadata\u001b[0m\u001b[0;34m=\u001b[0m\u001b[0mself\u001b[0m\u001b[0;34m.\u001b[0m\u001b[0mrun_metadata\u001b[0m\u001b[0;34m)\u001b[0m\u001b[0;34m\u001b[0m\u001b[0;34m\u001b[0m\u001b[0m\n\u001b[1;32m   2674\u001b[0m         \u001b[0;32melse\u001b[0m\u001b[0;34m:\u001b[0m\u001b[0;34m\u001b[0m\u001b[0;34m\u001b[0m\u001b[0m\n\u001b[0;32m-> 2675\u001b[0;31m             \u001b[0mfetched\u001b[0m \u001b[0;34m=\u001b[0m \u001b[0mself\u001b[0m\u001b[0;34m.\u001b[0m\u001b[0m_callable_fn\u001b[0m\u001b[0;34m(\u001b[0m\u001b[0;34m*\u001b[0m\u001b[0marray_vals\u001b[0m\u001b[0;34m)\u001b[0m\u001b[0;34m\u001b[0m\u001b[0;34m\u001b[0m\u001b[0m\n\u001b[0m\u001b[1;32m   2676\u001b[0m         \u001b[0;32mreturn\u001b[0m \u001b[0mfetched\u001b[0m\u001b[0;34m[\u001b[0m\u001b[0;34m:\u001b[0m\u001b[0mlen\u001b[0m\u001b[0;34m(\u001b[0m\u001b[0mself\u001b[0m\u001b[0;34m.\u001b[0m\u001b[0moutputs\u001b[0m\u001b[0;34m)\u001b[0m\u001b[0;34m]\u001b[0m\u001b[0;34m\u001b[0m\u001b[0;34m\u001b[0m\u001b[0m\n\u001b[1;32m   2677\u001b[0m \u001b[0;34m\u001b[0m\u001b[0m\n",
      "\u001b[0;32m~/.local/anaconda3/lib/python3.7/site-packages/tensorflow/python/client/session.py\u001b[0m in \u001b[0;36m__call__\u001b[0;34m(self, *args, **kwargs)\u001b[0m\n\u001b[1;32m   1437\u001b[0m           ret = tf_session.TF_SessionRunCallable(\n\u001b[1;32m   1438\u001b[0m               \u001b[0mself\u001b[0m\u001b[0;34m.\u001b[0m\u001b[0m_session\u001b[0m\u001b[0;34m.\u001b[0m\u001b[0m_session\u001b[0m\u001b[0;34m,\u001b[0m \u001b[0mself\u001b[0m\u001b[0;34m.\u001b[0m\u001b[0m_handle\u001b[0m\u001b[0;34m,\u001b[0m \u001b[0margs\u001b[0m\u001b[0;34m,\u001b[0m \u001b[0mstatus\u001b[0m\u001b[0;34m,\u001b[0m\u001b[0;34m\u001b[0m\u001b[0;34m\u001b[0m\u001b[0m\n\u001b[0;32m-> 1439\u001b[0;31m               run_metadata_ptr)\n\u001b[0m\u001b[1;32m   1440\u001b[0m         \u001b[0;32mif\u001b[0m \u001b[0mrun_metadata\u001b[0m\u001b[0;34m:\u001b[0m\u001b[0;34m\u001b[0m\u001b[0;34m\u001b[0m\u001b[0m\n\u001b[1;32m   1441\u001b[0m           \u001b[0mproto_data\u001b[0m \u001b[0;34m=\u001b[0m \u001b[0mtf_session\u001b[0m\u001b[0;34m.\u001b[0m\u001b[0mTF_GetBuffer\u001b[0m\u001b[0;34m(\u001b[0m\u001b[0mrun_metadata_ptr\u001b[0m\u001b[0;34m)\u001b[0m\u001b[0;34m\u001b[0m\u001b[0;34m\u001b[0m\u001b[0m\n",
      "\u001b[0;31mKeyboardInterrupt\u001b[0m: "
     ]
    }
   ],
   "source": [
    "def plot_history(network_history):\n",
    "    plt.figure()\n",
    "    plt.xlabel('Epochs')\n",
    "    plt.ylabel('Loss')\n",
    "    plt.plot(network_history.history['loss'])\n",
    "    plt.plot(network_history.history['val_loss'])\n",
    "    plt.legend(['Training', 'Validation'])\n",
    "    plt.savefig(\"../build/plots/history_bert_title_knn.pdf\")\n",
    "    plt.clf()\n",
    "\n",
    "seed = 42\n",
    "rate=0.3\n",
    "dim = X_train.shape[1]\n",
    "\n",
    "LR = LeakyReLU()\n",
    "LR.__name__ = 'relu'\n",
    "\n",
    "model = Sequential()\n",
    "model.add(Dense(units=dim*2, activation=\"relu\", input_dim=dim))\n",
    "model.add(Dropout(rate=0.418,seed=seed))\n",
    "model.add(Dense(units=76, activation='linear'))\n",
    "model.add(Dropout(rate=0.5,seed=seed))\n",
    "model.add(Dense(units=512, activation='relu'))\n",
    "model.add(Dropout(rate=0.33,seed=seed))\n",
    "model.add(Dense(units=1, activation='sigmoid'))\n",
    "model.compile(loss='binary_crossentropy',\n",
    "              optimizer='rmsprop',\n",
    "              metrics=['accuracy'])\n",
    "model.summary()\n",
    "\n",
    "filepath = '../model/best_bert_title_nn.hdf5'\n",
    "checkpoint = ModelCheckpoint(filepath, monitor='val_loss', verbose=1, save_best_only=True)\n",
    "\n",
    "history = model.fit(X_train, y_train_enc, validation_split=0.3,\n",
    "                    epochs=300,batch_size=64, callbacks=[checkpoint, TensorBoard(log_dir='../build/graph',\n",
    "                                                                                histogram_freq=0, write_graph=True)])\n",
    "print(history.history.keys())\n",
    "plot_history(history)\n",
    "plt.show()"
   ]
  },
  {
   "cell_type": "markdown",
   "metadata": {},
   "source": [
    "Für den validation und trainings loss History muss beachtet werden, dass wir Dropout layers haben. Die Evaluation des Trainings-Fehlers wird nach jeder batch der Validierungs-Fehler jedoch erst nach jeder Epoche berechnet.\n"
   ]
  },
  {
   "cell_type": "code",
   "execution_count": 51,
   "metadata": {},
   "outputs": [
    {
     "name": "stdout",
     "output_type": "stream",
     "text": [
      "9201/9201 [==============================] - 1s 120us/step\n",
      "18678/18678 [==============================] - 2s 117us/step\n",
      "              precision    recall  f1-score   support\n",
      "\n",
      "           0       0.77      0.67      0.72      4016\n",
      "           1       0.77      0.85      0.81      5185\n",
      "\n",
      "   micro avg       0.77      0.77      0.77      9201\n",
      "   macro avg       0.77      0.76      0.76      9201\n",
      "weighted avg       0.77      0.77      0.77      9201\n",
      "\n"
     ]
    }
   ],
   "source": [
    "best_model = load_model('../model/best_bert_title_nn.hdf5')\n",
    "y_pred = best_model.predict(X_test, batch_size=64, verbose=1)\n",
    "y_pred_train = best_model.predict(X_train,batch_size=64,verbose=1)\n",
    "y_pred_bool = np.round(y_pred)\n",
    "print(classification_report(y_test_enc, y_pred_bool))"
   ]
  },
  {
   "cell_type": "code",
   "execution_count": 50,
   "metadata": {},
   "outputs": [
    {
     "data": {
      "image/png": "[encoded data removed]",
      "text/plain": [
       "<Figure size 432x288 with 2 Axes>"
      ]
     },
     "metadata": {
      "needs_background": "light"
     },
     "output_type": "display_data"
    }
   ],
   "source": [
    "confusion_matrix = pd.crosstab(y_pred_bool[:,0], y_test_enc, rownames=['Actual'], colnames=['Predicted'])\n",
    "\n",
    "confusion_matrix.columns = ['fake','real']\n",
    "confusion_matrix = confusion_matrix.rename_axis(\"Predicted\", axis=\"columns\")\n",
    "confusion_matrix.rename(index = {0.0: \"fake\", 1.0:'real'}, inplace = True) \n",
    "confusion_matrix = confusion_matrix/y_test_enc.shape[0]\n",
    "sn.heatmap(confusion_matrix, annot=True , cmap='viridis')\n",
    "plt.show()\n",
    "plt.savefig(\"../build/plots/Bert/cnfsn_mtx_bert_title_nn.pdf\")\n",
    "plt.close()"
   ]
  },
  {
   "cell_type": "code",
   "execution_count": 56,
   "metadata": {},
   "outputs": [
    {
     "data": {
      "image/png": "[encoded data removed]",
      "text/plain": [
       "<Figure size 432x288 with 1 Axes>"
      ]
     },
     "metadata": {
      "needs_background": "light"
     },
     "output_type": "display_data"
    }
   ],
   "source": [
    "plt.hist(y_pred[y_test_enc == 0],label=\"fake test\", alpha = 0.4, color = \"r\",density=True)\n",
    "plt.hist(y_pred_train[y_train_enc == 0],label='fake train', alpha = 0.4, color = 'r', histtype='step',density=True)\n",
    "plt.hist(y_pred[y_test_enc == 1],label = \"real test\",alpha = 0.4, color = \"b\",density=True)\n",
    "plt.hist(y_pred_train[y_train_enc == 1],label='real train', alpha = 0.4, color = 'b', histtype='step',density=True)\n",
    "\n",
    "plt.xlabel(\"Prediction Probability\")\n",
    "plt.legend()\n",
    "plt.show()\n",
    "#plt.savefig(\"../build/plots/Bert/prob_bert_title_nn.pdf\")\n",
    "plt.close()"
   ]
  },
  {
   "cell_type": "markdown",
   "metadata": {},
   "source": [
    "### ROC Curve:"
   ]
  },
  {
   "cell_type": "code",
   "execution_count": 10,
   "metadata": {},
   "outputs": [
    {
     "data": {
      "image/png": "[encoded data removed]",
      "text/plain": [
       "<Figure size 432x288 with 1 Axes>"
      ]
     },
     "metadata": {
      "needs_background": "light"
     },
     "output_type": "display_data"
    }
   ],
   "source": [
    "from sklearn.metrics import roc_curve, auc\n",
    "\n",
    "fpr = dict()\n",
    "tpr = dict()\n",
    "roc_auc = dict()\n",
    "fpr, tpr, _ = roc_curve(y_test_enc, y_pred)\n",
    "roc_auc = auc(fpr, tpr)\n",
    "\n",
    "plt.figure()\n",
    "lw = 2\n",
    "plt.plot(fpr, tpr, color='darkorange',\n",
    "         lw=lw, label='ROC curve (area = %0.2f)' % roc_auc)\n",
    "plt.plot([0, 1], [0, 1], color='navy', lw=lw, linestyle='--')\n",
    "plt.xlim([0.0, 1.0])\n",
    "plt.ylim([0.0, 1.05])\n",
    "plt.xlabel('False Positive Rate')\n",
    "plt.ylabel('True Positive Rate')\n",
    "plt.title('Receiver operating characteristic example')\n",
    "plt.legend(loc=\"lower right\")\n",
    "plt.show()\n",
    "plt.savefig(\"../build/plots/Bert/roc_bert_title_nn.pdf\")\n",
    "plt.close()"
   ]
  }
 ],
 "metadata": {
  "kernelspec": {
   "display_name": "Python 3",
   "language": "python",
   "name": "python3"
  },
  "language_info": {
   "codemirror_mode": {
    "name": "ipython",
    "version": 3
   },
   "file_extension": ".py",
   "mimetype": "text/x-python",
   "name": "python",
   "nbconvert_exporter": "python",
   "pygments_lexer": "ipython3",
   "version": "3.7.3"
  }
 },
 "nbformat": 4,
 "nbformat_minor": 2
}
