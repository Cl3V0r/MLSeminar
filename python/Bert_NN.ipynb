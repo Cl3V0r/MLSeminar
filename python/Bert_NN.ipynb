{
 "cells": [
  {
   "cell_type": "markdown",
   "metadata": {},
   "source": [
    "# Data Processing with BERT\n",
    "\n",
    "Bert Model Download: https://github.com/google-research/bert#pre-trained-models\n",
    "\n",
    "inspired by: https://github.com/llSourcell/bert-as-service\n",
    "\n",
    "DOC: https://bert-as-service.readthedocs.io/en/latest/section/get-start.html#start-the-bert-service\n",
    "\n",
    "Install BERT:\n",
    "pip install bert-serving-server\n",
    "pip install bert-serving-client\n",
    "Python 3.5 and Tensorflow 1.10 required\n",
    "\n",
    "Download pretrained model:\n",
    "\n",
    "https://storage.googleapis.com/bert_models/2018_10_18/uncased_L-12_H-768_A-12.zip\n",
    "\n",
    "add unziped to /tmp/uncased_L-12_H-768_A-12/\n",
    "\n",
    "then start the service by : bert-serving-start -model_dir /tmp/uncased_L-12_H-768_A-12/ -num_worker=1"
   ]
  },
  {
   "cell_type": "code",
   "execution_count": 43,
   "metadata": {},
   "outputs": [],
   "source": [
    "from bert_serving.client import BertClient\n",
    "import pandas as pd\n",
    "import numpy as np\n",
    "import h5py\n",
    "from nltk import tokenize\n",
    "from sklearn.decomposition import PCA\n",
    "from sklearn.model_selection import train_test_split\n",
    "from sklearn.preprocessing import LabelEncoder\n",
    "import matplotlib.pyplot as plt\n",
    "from keras.models import Sequential\n",
    "from keras.layers import Dense, Dropout, LeakyReLU\n",
    "from keras.callbacks import TensorBoard, ModelCheckpoint\n",
    "from keras.models import load_model\n",
    "from sklearn.metrics import confusion_matrix, classification_report"
   ]
  },
  {
   "cell_type": "code",
   "execution_count": 3,
   "metadata": {},
   "outputs": [
    {
     "name": "stdout",
     "output_type": "stream",
     "text": [
      " Train Dataset of size: 18678 \n",
      " Test Dataset of size: 9201\n",
      "Size of FakeNews: 12167 \n",
      " Size of Real News: 15712\n",
      "FakeNews Anteil: 0.43642167940026544\n"
     ]
    },
    {
     "data": {
      "text/html": [
       "<div>\n",
       "<style scoped>\n",
       "    .dataframe tbody tr th:only-of-type {\n",
       "        vertical-align: middle;\n",
       "    }\n",
       "\n",
       "    .dataframe tbody tr th {\n",
       "        vertical-align: top;\n",
       "    }\n",
       "\n",
       "    .dataframe thead th {\n",
       "        text-align: right;\n",
       "    }\n",
       "</style>\n",
       "<table border=\"1\" class=\"dataframe\">\n",
       "  <thead>\n",
       "    <tr style=\"text-align: right;\">\n",
       "      <th></th>\n",
       "      <th>title</th>\n",
       "      <th>content</th>\n",
       "    </tr>\n",
       "  </thead>\n",
       "  <tbody>\n",
       "    <tr>\n",
       "      <th>4714</th>\n",
       "      <td>'D**k-Waving Berlusconi Knockoff': Late-Night ...</td>\n",
       "      <td>Share on Twitter \\nDuring the third and final ...</td>\n",
       "    </tr>\n",
       "    <tr>\n",
       "      <th>2858</th>\n",
       "      <td>Ikea crea un carril rápido para solteros</td>\n",
       "      <td>Ikea crea un carril rápido para solteros LOS C...</td>\n",
       "    </tr>\n",
       "    <tr>\n",
       "      <th>25695</th>\n",
       "      <td>Congo forces kill 26 protesters against leader...</td>\n",
       "      <td>Security forces shot dead at least 26 protest...</td>\n",
       "    </tr>\n",
       "    <tr>\n",
       "      <th>631</th>\n",
       "      <td>Get Ready For Civil Unrest</td>\n",
       "      <td>Get Ready For Civil Unrest 10/31/2016 \\nECONOM...</td>\n",
       "    </tr>\n",
       "    <tr>\n",
       "      <th>2028</th>\n",
       "      <td>Review: Brit Bennett’s “The Mothers”</td>\n",
       "      <td>Email \\nThe mothers referred to in the title o...</td>\n",
       "    </tr>\n",
       "  </tbody>\n",
       "</table>\n",
       "</div>"
      ],
      "text/plain": [
       "                                                   title  \\\n",
       "4714   'D**k-Waving Berlusconi Knockoff': Late-Night ...   \n",
       "2858            Ikea crea un carril rápido para solteros   \n",
       "25695  Congo forces kill 26 protesters against leader...   \n",
       "631                           Get Ready For Civil Unrest   \n",
       "2028                Review: Brit Bennett’s “The Mothers”   \n",
       "\n",
       "                                                 content  \n",
       "4714   Share on Twitter \\nDuring the third and final ...  \n",
       "2858   Ikea crea un carril rápido para solteros LOS C...  \n",
       "25695   Security forces shot dead at least 26 protest...  \n",
       "631    Get Ready For Civil Unrest 10/31/2016 \\nECONOM...  \n",
       "2028   Email \\nThe mothers referred to in the title o...  "
      ]
     },
     "execution_count": 3,
     "metadata": {},
     "output_type": "execute_result"
    }
   ],
   "source": [
    "news = pd.read_csv('../data/mixed_news/news_dataset.csv')\n",
    "news = news.dropna(subset=['title','content'])\n",
    "news = news[news.content != ' ']\n",
    "news = news[news.title != ' ']\n",
    "\n",
    "news_train, news_test, label_train, label_test = train_test_split(news[[\"title\",\"content\"]], news[\"label\"], test_size=0.33, \n",
    "                                                                  random_state=42)\n",
    "print(\" Train Dataset of size: %i \\n Test Dataset of size: %i\" % (news_train.shape[0], news_test.shape[0]))\n",
    "print(\"Size of FakeNews: %i \\n Size of Real News: %i\" % (news[news.label == 'fake'].shape[0],news[news.label==\"real\"].shape[0]))\n",
    "print(\"FakeNews Anteil:\",len(news[news.label=='fake'])/len(news))\n",
    "news_train.head()"
   ]
  },
  {
   "cell_type": "markdown",
   "metadata": {},
   "source": [
    "# Vergleichsanalyse:"
   ]
  },
  {
   "cell_type": "markdown",
   "metadata": {},
   "source": [
    "## Klassifizierung anhand eines Splits:"
   ]
  },
  {
   "cell_type": "code",
   "execution_count": null,
   "metadata": {},
   "outputs": [],
   "source": [
    "text_len_real  =  [len(c) for c in news[news['label']=='real'].content]\n",
    "plt.hist(text_len_real,color=\"b\", bins=500,density=True,alpha=0.4,label=\"real\")\n",
    "text_len_fake = [len(c) for c in news[news['label']=='fake'].content]\n",
    "plt.hist(text_len_fake,color=\"r\",bins=500, density=True,alpha=0.4,label=\"fake\")\n",
    "plt.xlim(0,20000)\n",
    "plt.xlabel(\"Textlänge\")\n",
    "plt.legend()\n",
    "plt.show()"
   ]
  },
  {
   "cell_type": "code",
   "execution_count": null,
   "metadata": {},
   "outputs": [],
   "source": [
    "data = pd.DataFrame({\"x\": text_len_fake+text_len_real, \"truth\": [0]*len(text_len_fake) + [1]*len(text_len_real)})\n",
    "split=2500\n",
    "plt.vlines(split,0,0.00025)\n",
    "plt.hist(text_len_real,color=\"b\", bins=500,density=True,alpha=0.4,label=\"real\")\n",
    "plt.hist(text_len_fake,color=\"r\",bins=500, density=True,alpha=0.4,label=\"fake\")\n",
    "plt.xlim(0,20000)\n",
    "plt.xlabel(\"Textlänge\")\n",
    "plt.legend()\n",
    "plt.show()"
   ]
  },
  {
   "cell_type": "code",
   "execution_count": null,
   "metadata": {},
   "outputs": [],
   "source": [
    "from sklearn.utils.multiclass import unique_labels\n",
    "def plot_confusion_matrix(y_true, y_pred, classes,\n",
    "                          normalize=False,\n",
    "                          title=None,\n",
    "                          cmap=plt.cm.Blues):\n",
    "    \"\"\"\n",
    "    This function prints and plots the confusion matrix.\n",
    "    Normalization can be applied by setting `normalize=True`.\n",
    "    \"\"\"\n",
    "    if not title:\n",
    "        if normalize:\n",
    "            title = 'Normalized confusion matrix'\n",
    "        else:\n",
    "            title = 'Confusion matrix, without normalization'\n",
    "\n",
    "    # Compute confusion matrix\n",
    "    cm = confusion_matrix(y_true, y_pred)\n",
    "    # Only use the labels that appear in the data\n",
    "    if normalize:\n",
    "        cm = cm.astype('float') / cm.sum(axis=1)[:, np.newaxis]\n",
    "        print(\"Normalized confusion matrix\")\n",
    "    else:\n",
    "        print('Confusion matrix, without normalization')\n",
    "\n",
    "    print(cm)\n",
    "\n",
    "    fig, ax = plt.subplots()\n",
    "    im = ax.imshow(cm, interpolation='nearest', cmap=cmap)\n",
    "    ax.figure.colorbar(im, ax=ax)\n",
    "    # We want to show all ticks...\n",
    "    ax.set(xticks=np.arange(cm.shape[1]),\n",
    "           yticks=np.arange(cm.shape[0]),\n",
    "           # ... and label them with the respective list entries\n",
    "           xticklabels=classes, yticklabels=classes,\n",
    "           title=title,\n",
    "           ylabel='True label',\n",
    "           xlabel='Predicted label')\n",
    "\n",
    "    # Rotate the tick labels and set their alignment.\n",
    "    plt.setp(ax.get_xticklabels(), rotation=45, ha=\"right\",\n",
    "             rotation_mode=\"anchor\")\n",
    "\n",
    "    # Loop over data dimensions and create text annotations.\n",
    "    fmt = '.2f' if normalize else 'd'\n",
    "    thresh = cm.max() / 2.\n",
    "    for i in range(cm.shape[0]):\n",
    "        for j in range(cm.shape[1]):\n",
    "            ax.text(j, i, format(cm[i, j], fmt),\n",
    "                    ha=\"center\", va=\"center\",\n",
    "                    color=\"white\" if cm[i, j] > thresh else \"black\")\n",
    "    fig.tight_layout()\n",
    "    return ax"
   ]
  },
  {
   "cell_type": "code",
   "execution_count": null,
   "metadata": {},
   "outputs": [],
   "source": [
    "data[\"predict\"] = data.x > split\n",
    "data.head()\n",
    "from sklearn.metrics import confusion_matrix\n",
    "data = data.replace(0,\"fake\").replace(1,\"real\").replace(False,\"fake\").replace(True,\"real\")\n",
    "plot_confusion_matrix(data.truth,data.predict,[\"fake\",\"truth\"])"
   ]
  },
  {
   "cell_type": "markdown",
   "metadata": {},
   "source": [
    "# Using BERT for Datapreprocessing\n",
    "## Encode Titles:"
   ]
  },
  {
   "cell_type": "code",
   "execution_count": null,
   "metadata": {},
   "outputs": [],
   "source": [
    "bc = BertClient()"
   ]
  },
  {
   "cell_type": "code",
   "execution_count": null,
   "metadata": {},
   "outputs": [],
   "source": [
    "train_title_enc = bc.encode(list(news_train['title']))"
   ]
  },
  {
   "cell_type": "code",
   "execution_count": null,
   "metadata": {},
   "outputs": [],
   "source": [
    "with h5py.File('encode_news.h5', 'w') as hf:\n",
    "    hf.create_dataset(\"train_title_encode\",  train_title_enc)"
   ]
  },
  {
   "cell_type": "code",
   "execution_count": null,
   "metadata": {},
   "outputs": [],
   "source": [
    "test_title_enc = bc.encode(list(news_test['title']))"
   ]
  },
  {
   "cell_type": "code",
   "execution_count": null,
   "metadata": {},
   "outputs": [],
   "source": [
    "with h5py.File('encode_news.h5', 'w') as hf:\n",
    "    hf.create_dataset(\"test_title_encode\",  test_title_enc)"
   ]
  },
  {
   "cell_type": "markdown",
   "metadata": {},
   "source": [
    "## Encode Text:"
   ]
  },
  {
   "cell_type": "code",
   "execution_count": null,
   "metadata": {},
   "outputs": [],
   "source": [
    "content = []\n",
    "num_sentences_train = []\n",
    "for c in news_train['content']:\n",
    "    tok = tokenize.sent_tokenize(c)\n",
    "    content  = content + tok\n",
    "    num_sentences_train.append(len(tok))\n",
    "\n",
    "train_content_encode = bc.encode(content)"
   ]
  },
  {
   "cell_type": "code",
   "execution_count": null,
   "metadata": {},
   "outputs": [],
   "source": [
    "with h5py.File('encode_news.h5', 'a') as hf:\n",
    "    hf.create_dataset(\"train_content_encode\",  data = train_content_encode)\n",
    "    hf.create_dataset(\"train_num_sentences\", data = np.array(num_sentences_train))"
   ]
  },
  {
   "cell_type": "code",
   "execution_count": null,
   "metadata": {},
   "outputs": [],
   "source": [
    "content = []\n",
    "num_sentences_test = []\n",
    "for c in news_test['content']:\n",
    "    tok = tokenize.sent_tokenize(c)\n",
    "    content  = content + tok\n",
    "    num_sentences_test.append(len(tok))\n",
    "\n",
    "test_content_encode = bc.encode(content)"
   ]
  },
  {
   "cell_type": "code",
   "execution_count": null,
   "metadata": {},
   "outputs": [],
   "source": [
    "with h5py.File('encode_news.h5', 'a') as hf:\n",
    "    hf.create_dataset(\"test_content_encode\",  data = test_content_encode)\n",
    "    hf.create_dataset(\"test_num_sentences\", data = np.array(num_sentences_test))"
   ]
  },
  {
   "cell_type": "markdown",
   "metadata": {},
   "source": [
    "## Read encoded data:"
   ]
  },
  {
   "cell_type": "code",
   "execution_count": 14,
   "metadata": {},
   "outputs": [],
   "source": [
    "with h5py.File('encoded_data/title_encode.h5', 'r') as hf:\n",
    "    title_encode = hf['title_encode'][:]\n",
    "    #text_encode = hf['text_encode'][:]\n",
    "    #num_sentences = hf['num_sentences'][:]"
   ]
  },
  {
   "cell_type": "markdown",
   "metadata": {},
   "source": [
    "preparing for NN:"
   ]
  },
  {
   "cell_type": "code",
   "execution_count": 20,
   "metadata": {},
   "outputs": [],
   "source": [
    "title_NN = pd.DataFrame(data = title_encode)\n",
    "X_train, X_test, y_train, y_test = train_test_split(title_NN,news.label, test_size=0.33, stratify=news.label,\n",
    "                                                                  random_state=42)"
   ]
  },
  {
   "cell_type": "markdown",
   "metadata": {},
   "source": [
    "# Verkleinerung des Designspace mithilfe einer PCA:"
   ]
  },
  {
   "cell_type": "code",
   "execution_count": 21,
   "metadata": {},
   "outputs": [
    {
     "data": {
      "text/plain": [
       "PCA(copy=True, iterated_power='auto', n_components=None, random_state=None,\n",
       "  svd_solver='auto', tol=0.0, whiten=False)"
      ]
     },
     "execution_count": 21,
     "metadata": {},
     "output_type": "execute_result"
    }
   ],
   "source": [
    "modell = PCA()\n",
    "modell.fit(X_train)"
   ]
  },
  {
   "cell_type": "code",
   "execution_count": 22,
   "metadata": {},
   "outputs": [
    {
     "data": {
      "image/png": "[encoded data removed]",
      "text/plain": [
       "<Figure size 432x288 with 1 Axes>"
      ]
     },
     "metadata": {
      "needs_background": "light"
     },
     "output_type": "display_data"
    }
   ],
   "source": [
    "import matplotlib.pyplot as plt\n",
    "plt.plot(range(768),np.cumsum(modell.explained_variance_ratio_))\n",
    "plt.xlabel(\"Hauptkomponente\")\n",
    "plt.ylabel(\"Kummulierte Varianz\")\n",
    "plt.show()"
   ]
  },
  {
   "cell_type": "markdown",
   "metadata": {},
   "source": [
    "Es gibt drei Methoden, um zu entscheiden wie viele Hauptkomponenten ausreichend sind:\n",
    "\n",
    "1. Methode: eine bestimmter prozentsatz der Varainz soll erklärt sein:"
   ]
  },
  {
   "cell_type": "code",
   "execution_count": 23,
   "metadata": {},
   "outputs": [
    {
     "name": "stdout",
     "output_type": "stream",
     "text": [
      "Anzahl der Hauptkomponenten für erklärte Varianz größer 0.8:  137\n"
     ]
    }
   ],
   "source": [
    "print(\"Anzahl der Hauptkomponenten für erklärte Varianz größer 0.8: \", sum(np.cumsum(modell.explained_variance_ratio_)<0.8)+1)"
   ]
  },
  {
   "cell_type": "markdown",
   "metadata": {},
   "source": [
    "2. Methode: Die Hauptkomponenten, die mehr als die mittlere Varianz erkären"
   ]
  },
  {
   "cell_type": "code",
   "execution_count": 24,
   "metadata": {},
   "outputs": [
    {
     "name": "stdout",
     "output_type": "stream",
     "text": [
      "Anzahl der Hauptkomponenten größer der mittleren erklärten Varainz:  132\n"
     ]
    }
   ],
   "source": [
    "print(\"Anzahl der Hauptkomponenten größer der mittleren erklärten Varainz: \",sum(modell.explained_variance_ratio_ > np.mean(modell.explained_variance_ratio_)))"
   ]
  },
  {
   "cell_type": "markdown",
   "metadata": {},
   "source": [
    "Nutzen des Scree-Plots"
   ]
  },
  {
   "cell_type": "code",
   "execution_count": 25,
   "metadata": {},
   "outputs": [
    {
     "data": {
      "image/png": "[encoded data removed]",
      "text/plain": [
       "<Figure size 432x288 with 1 Axes>"
      ]
     },
     "metadata": {
      "needs_background": "light"
     },
     "output_type": "display_data"
    }
   ],
   "source": [
    "plt.plot(range(768),modell.explained_variance_ratio_)\n",
    "plt.xlabel(\"Hauptkomponente\")\n",
    "plt.ylabel(\"erklärte Varianz\")\n",
    "plt.xlim(0,200)\n",
    "plt.show()"
   ]
  },
  {
   "cell_type": "markdown",
   "metadata": {},
   "source": [
    "Der Scree-Plot legt nahe $50-75$ Hauptkomponenten zu nutzen. Ab dann flacht der Graph sehr stark ab"
   ]
  },
  {
   "cell_type": "code",
   "execution_count": 53,
   "metadata": {},
   "outputs": [],
   "source": [
    "X_train_red = modell.transform(X_train)[:,:130]\n",
    "X_test_red = modell.transform(X_test)[:,:130]\n",
    "\n",
    "LE = LabelEncoder()\n",
    "LE.fit([\"fake\",\"real\"])\n",
    "y_train_enc = LE.transform(y_train)\n",
    "y_test_enc = LE.transform(y_test)"
   ]
  },
  {
   "cell_type": "markdown",
   "metadata": {},
   "source": [
    "Es werden die ersten 50 Hauptkomponenten weiterverwendet"
   ]
  },
  {
   "cell_type": "code",
   "execution_count": 72,
   "metadata": {},
   "outputs": [
    {
     "name": "stderr",
     "output_type": "stream",
     "text": [
      "/home/larsmoellerherm/.local/anaconda3/lib/python3.7/site-packages/pandas/io/pytables.py:274: PerformanceWarning: \n",
      "your performance may suffer as PyTables will pickle object types that it cannot\n",
      "map directly to c-types [inferred_type->mixed-integer,key->axis0] [items->None]\n",
      "\n",
      "  f(store)\n"
     ]
    }
   ],
   "source": [
    "NN_data_train = pd.DataFrame(X_train_red)\n",
    "NN_data_train[\"label\"] = y_train_enc\n",
    "NN_data_test = pd.DataFrame(X_test_red)\n",
    "NN_data_test[\"label\"] = y_test_enc\n",
    "\n",
    "NN_data_train.to_hdf('../data/BERT/Bert_title_NN.h5', key='train', mode='w')\n",
    "NN_data_test.to_hdf('../data/BERT/Bert_title_NN.h5', key='test', mode='a')"
   ]
  },
  {
   "cell_type": "markdown",
   "metadata": {},
   "source": [
    "## NN training"
   ]
  },
  {
   "cell_type": "code",
   "execution_count": 55,
   "metadata": {},
   "outputs": [
    {
     "name": "stdout",
     "output_type": "stream",
     "text": [
      "_________________________________________________________________\n",
      "Layer (type)                 Output Shape              Param #   \n",
      "=================================================================\n",
      "dense_17 (Dense)             (None, 1300)              170300    \n",
      "_________________________________________________________________\n",
      "dropout_6 (Dropout)          (None, 1300)              0         \n",
      "_________________________________________________________________\n",
      "dense_18 (Dense)             (None, 1000)              1301000   \n",
      "_________________________________________________________________\n",
      "dropout_7 (Dropout)          (None, 1000)              0         \n",
      "_________________________________________________________________\n",
      "dense_19 (Dense)             (None, 10)                10010     \n",
      "_________________________________________________________________\n",
      "dense_20 (Dense)             (None, 1)                 11        \n",
      "=================================================================\n",
      "Total params: 1,481,321\n",
      "Trainable params: 1,481,321\n",
      "Non-trainable params: 0\n",
      "_________________________________________________________________\n",
      "Train on 13074 samples, validate on 5604 samples\n",
      "Epoch 1/10\n",
      "13074/13074 [==============================] - 50s 4ms/step - loss: 0.5344 - acc: 0.7205 - val_loss: 0.4934 - val_acc: 0.7511\n",
      "\n",
      "Epoch 00001: val_loss improved from inf to 0.49343, saving model to ../model/bert_title_nn.hdf5\n",
      "Epoch 2/10\n",
      "13074/13074 [==============================] - 50s 4ms/step - loss: 0.4792 - acc: 0.7564 - val_loss: 0.4787 - val_acc: 0.7557\n",
      "\n",
      "Epoch 00002: val_loss improved from 0.49343 to 0.47875, saving model to ../model/bert_title_nn.hdf5\n",
      "Epoch 3/10\n",
      "13074/13074 [==============================] - 51s 4ms/step - loss: 0.4515 - acc: 0.7738 - val_loss: 0.4730 - val_acc: 0.7664\n",
      "\n",
      "Epoch 00003: val_loss improved from 0.47875 to 0.47297, saving model to ../model/bert_title_nn.hdf5\n",
      "Epoch 4/10\n",
      "13074/13074 [==============================] - 54s 4ms/step - loss: 0.4265 - acc: 0.7941 - val_loss: 0.4677 - val_acc: 0.7739\n",
      "\n",
      "Epoch 00004: val_loss improved from 0.47297 to 0.46774, saving model to ../model/bert_title_nn.hdf5\n",
      "Epoch 5/10\n",
      "13074/13074 [==============================] - 59s 5ms/step - loss: 0.4004 - acc: 0.8038 - val_loss: 0.4743 - val_acc: 0.7759\n",
      "\n",
      "Epoch 00005: val_loss did not improve from 0.46774\n",
      "Epoch 6/10\n",
      "13074/13074 [==============================] - 56s 4ms/step - loss: 0.3807 - acc: 0.8197 - val_loss: 0.4778 - val_acc: 0.7750\n",
      "\n",
      "Epoch 00006: val_loss did not improve from 0.46774\n",
      "Epoch 7/10\n",
      "13074/13074 [==============================] - 58s 4ms/step - loss: 0.3537 - acc: 0.8320 - val_loss: 0.4701 - val_acc: 0.7703\n",
      "\n",
      "Epoch 00007: val_loss did not improve from 0.46774\n",
      "Epoch 8/10\n",
      "13074/13074 [==============================] - 62s 5ms/step - loss: 0.3276 - acc: 0.8459 - val_loss: 0.5016 - val_acc: 0.7680\n",
      "\n",
      "Epoch 00008: val_loss did not improve from 0.46774\n",
      "Epoch 9/10\n",
      "13074/13074 [==============================] - 53s 4ms/step - loss: 0.2959 - acc: 0.8647 - val_loss: 0.5347 - val_acc: 0.7695\n",
      "\n",
      "Epoch 00009: val_loss did not improve from 0.46774\n",
      "Epoch 10/10\n",
      "13074/13074 [==============================] - 52s 4ms/step - loss: 0.2768 - acc: 0.8707 - val_loss: 0.5449 - val_acc: 0.7677\n",
      "\n",
      "Epoch 00010: val_loss did not improve from 0.46774\n",
      "dict_keys(['val_loss', 'val_acc', 'loss', 'acc'])\n"
     ]
    },
    {
     "data": {
      "text/plain": [
       "<Figure size 432x288 with 0 Axes>"
      ]
     },
     "metadata": {},
     "output_type": "display_data"
    }
   ],
   "source": [
    "def plot_history(network_history):\n",
    "    plt.figure()\n",
    "    plt.xlabel('Epochs')\n",
    "    plt.ylabel('Loss')\n",
    "    plt.plot(network_history.history['loss'])\n",
    "    plt.plot(network_history.history['val_loss'])\n",
    "    plt.legend(['Training', 'Validation'])\n",
    "    plt.savefig(\"../build/plots/history_bert_title_knn.pdf\")\n",
    "    plt.clf()\n",
    "\n",
    "seed = 42\n",
    "rate=0.3\n",
    "dim = X_train_red.shape[1]\n",
    "\n",
    "LR = LeakyReLU()\n",
    "LR.__name__ = 'relu'\n",
    "\n",
    "model = Sequential()\n",
    "model.add(Dense(units=dim*10, activation=LR, input_dim=dim))\n",
    "model.add(Dropout(rate=rate,seed=seed))\n",
    "model.add(Dense(units=1000, activation='relu'))\n",
    "model.add(Dropout(rate=rate,seed=seed))\n",
    "model.add(Dense(units=10, activation='relu'))\n",
    "model.add(Dense(units=1, activation='sigmoid'))\n",
    "model.compile(loss='binary_crossentropy',\n",
    "              optimizer='adam',\n",
    "              metrics=['accuracy'])\n",
    "model.summary()\n",
    "\n",
    "filepath = '../model/bert_title_nn.hdf5'\n",
    "checkpoint = ModelCheckpoint(filepath, monitor='val_loss', verbose=1, save_best_only=True)\n",
    "\n",
    "history = model.fit(X_train_red, y_train_enc, validation_split=0.3,\n",
    "                    epochs=10,batch_size=8, callbacks=[checkpoint, TensorBoard(log_dir='../build/graph',\n",
    "                                                                                histogram_freq=0, write_graph=True)])\n",
    "print(history.history.keys())\n",
    "plot_history(history)\n",
    "plt.show()"
   ]
  },
  {
   "cell_type": "code",
   "execution_count": 57,
   "metadata": {},
   "outputs": [
    {
     "name": "stdout",
     "output_type": "stream",
     "text": [
      "9201/9201 [==============================] - 2s 168us/step\n",
      "[[0.83159566]\n",
      " [0.5199023 ]\n",
      " [0.9117578 ]\n",
      " ...\n",
      " [0.8201479 ]\n",
      " [0.68173456]\n",
      " [0.19044578]] [[1.]\n",
      " [1.]\n",
      " [1.]\n",
      " ...\n",
      " [1.]\n",
      " [1.]\n",
      " [0.]]\n",
      "              precision    recall  f1-score   support\n",
      "\n",
      "           0       0.75      0.73      0.74      4016\n",
      "           1       0.79      0.81      0.80      5185\n",
      "\n",
      "   micro avg       0.77      0.77      0.77      9201\n",
      "   macro avg       0.77      0.77      0.77      9201\n",
      "weighted avg       0.77      0.77      0.77      9201\n",
      "\n",
      "[[2927 1089]\n",
      " [ 983 4202]]\n"
     ]
    },
    {
     "data": {
      "image/png": "[encoded data removed]",
      "text/plain": [
       "<Figure size 432x288 with 2 Axes>"
      ]
     },
     "metadata": {
      "needs_background": "light"
     },
     "output_type": "display_data"
    }
   ],
   "source": [
    "#best_model = load_model('../model/best_bert_title_nn.hdf5')\n",
    "y_pred = model.predict(X_test_red, batch_size=64, verbose=1)\n",
    "y_pred_bool = np.round(y_pred)\n",
    "print(y_pred,y_pred_bool)\n",
    "print(classification_report(y_test_enc, y_pred_bool))\n",
    "print(confusion_matrix(y_test_enc, y_pred_bool,\n",
    "                       labels=[0,1]))\n",
    "plt.imshow(confusion_matrix(y_test_enc, y_pred_bool,\n",
    "                            labels=[0,1]))\n",
    "plt.tight_layout()\n",
    "plt.colorbar()\n",
    "plt.xticks(range(2), [\"fake\", \"real\"])\n",
    "plt.yticks(range(2), [\"fake\", \"real\"])\n",
    "plt.savefig(\"../build/plots/cnfsn_mtx_bert_title_nn.pdf\")"
   ]
  },
  {
   "cell_type": "code",
   "execution_count": 68,
   "metadata": {},
   "outputs": [
    {
     "data": {
      "image/png": "[encoded data removed]",
      "text/plain": [
       "<Figure size 432x288 with 1 Axes>"
      ]
     },
     "metadata": {
      "needs_background": "light"
     },
     "output_type": "display_data"
    }
   ],
   "source": [
    "plt.hist(y_pred[y_test_enc == 0],label=\"fake\", alpha = 0.4, color = \"r\")\n",
    "plt.hist(y_pred[y_test_enc == 1],label = \"real\",alpha = 0.4, color = \"b\")\n",
    "plt.xlabel(\"Prediction Probability\")\n",
    "plt.legend()\n",
    "plt.show()"
   ]
  },
  {
   "cell_type": "markdown",
   "metadata": {},
   "source": [
    "### ROC Curve:"
   ]
  },
  {
   "cell_type": "code",
   "execution_count": 67,
   "metadata": {},
   "outputs": [
    {
     "data": {
      "image/png": "[encoded data removed]",
      "text/plain": [
       "<Figure size 432x288 with 1 Axes>"
      ]
     },
     "metadata": {
      "needs_background": "light"
     },
     "output_type": "display_data"
    }
   ],
   "source": [
    "from sklearn.metrics import roc_curve, auc\n",
    "\n",
    "fpr = dict()\n",
    "tpr = dict()\n",
    "roc_auc = dict()\n",
    "fpr, tpr, _ = roc_curve(y_test_enc, y_pred)\n",
    "roc_auc = auc(fpr, tpr)\n",
    "\n",
    "plt.figure()\n",
    "lw = 2\n",
    "plt.plot(fpr, tpr, color='darkorange',\n",
    "         lw=lw, label='ROC curve (area = %0.2f)' % roc_auc)\n",
    "plt.plot([0, 1], [0, 1], color='navy', lw=lw, linestyle='--')\n",
    "plt.xlim([0.0, 1.0])\n",
    "plt.ylim([0.0, 1.05])\n",
    "plt.xlabel('False Positive Rate')\n",
    "plt.ylabel('True Positive Rate')\n",
    "plt.title('Receiver operating characteristic example')\n",
    "plt.legend(loc=\"lower right\")\n",
    "plt.show()"
   ]
  }
 ],
 "metadata": {
  "kernelspec": {
   "display_name": "Python 3",
   "language": "python",
   "name": "python3"
  },
  "language_info": {
   "codemirror_mode": {
    "name": "ipython",
    "version": 3
   },
   "file_extension": ".py",
   "mimetype": "text/x-python",
   "name": "python",
   "nbconvert_exporter": "python",
   "pygments_lexer": "ipython3",
   "version": "3.7.3"
  }
 },
 "nbformat": 4,
 "nbformat_minor": 2
}
